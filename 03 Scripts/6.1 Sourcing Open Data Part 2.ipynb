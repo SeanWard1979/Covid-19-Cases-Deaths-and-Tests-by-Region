{
 "cells": [
  {
   "cell_type": "markdown",
   "metadata": {},
   "source": [
    "# Importing and Cleaning Main Dataset"
   ]
  },
  {
   "cell_type": "code",
   "execution_count": 1,
   "metadata": {},
   "outputs": [],
   "source": [
    "# Import libraries\n",
    "import pandas as pd\n",
    "import numpy as np\n",
    "import os"
   ]
  },
  {
   "cell_type": "code",
   "execution_count": 2,
   "metadata": {},
   "outputs": [],
   "source": [
    "df_covid = pd.read_csv(r'/Users/seanward/Desktop/6- Achievement/02 Data/Original Data/full_grouped.csv', index_col = False)"
   ]
  },
  {
   "cell_type": "code",
   "execution_count": 3,
   "metadata": {},
   "outputs": [],
   "source": [
    "path = r'/Users/seanward/Desktop/6- Achievement'"
   ]
  },
  {
   "cell_type": "code",
   "execution_count": 4,
   "metadata": {},
   "outputs": [
    {
     "data": {
      "text/plain": [
       "Index(['Date', 'Country/Region', 'Confirmed', 'Deaths', 'Recovered', 'Active',\n",
       "       'New cases', 'New deaths', 'New recovered', 'WHO Region'],\n",
       "      dtype='object')"
      ]
     },
     "execution_count": 4,
     "metadata": {},
     "output_type": "execute_result"
    }
   ],
   "source": [
    "df_covid.columns"
   ]
  },
  {
   "cell_type": "code",
   "execution_count": 5,
   "metadata": {},
   "outputs": [],
   "source": [
    "# Renaming columns for clarity purposes\n",
    "\n",
    "df_covid.rename(columns = { 'Country/Region' : 'Country' }, inplace = True)"
   ]
  },
  {
   "cell_type": "code",
   "execution_count": 6,
   "metadata": {},
   "outputs": [],
   "source": [
    "# Create a dataframe\n",
    "\n",
    "df_test = pd.DataFrame()"
   ]
  },
  {
   "cell_type": "code",
   "execution_count": 7,
   "metadata": {},
   "outputs": [],
   "source": [
    "# Create a mixed type column\n",
    "\n",
    "df_test['mix'] = ['a', 'b' , 1, True]"
   ]
  },
  {
   "cell_type": "code",
   "execution_count": 8,
   "metadata": {},
   "outputs": [
    {
     "data": {
      "text/html": [
       "<div>\n",
       "<style scoped>\n",
       "    .dataframe tbody tr th:only-of-type {\n",
       "        vertical-align: middle;\n",
       "    }\n",
       "\n",
       "    .dataframe tbody tr th {\n",
       "        vertical-align: top;\n",
       "    }\n",
       "\n",
       "    .dataframe thead th {\n",
       "        text-align: right;\n",
       "    }\n",
       "</style>\n",
       "<table border=\"1\" class=\"dataframe\">\n",
       "  <thead>\n",
       "    <tr style=\"text-align: right;\">\n",
       "      <th></th>\n",
       "      <th>mix</th>\n",
       "    </tr>\n",
       "  </thead>\n",
       "  <tbody>\n",
       "    <tr>\n",
       "      <th>0</th>\n",
       "      <td>a</td>\n",
       "    </tr>\n",
       "    <tr>\n",
       "      <th>1</th>\n",
       "      <td>b</td>\n",
       "    </tr>\n",
       "    <tr>\n",
       "      <th>2</th>\n",
       "      <td>1</td>\n",
       "    </tr>\n",
       "    <tr>\n",
       "      <th>3</th>\n",
       "      <td>True</td>\n",
       "    </tr>\n",
       "  </tbody>\n",
       "</table>\n",
       "</div>"
      ],
      "text/plain": [
       "    mix\n",
       "0     a\n",
       "1     b\n",
       "2     1\n",
       "3  True"
      ]
     },
     "execution_count": 8,
     "metadata": {},
     "output_type": "execute_result"
    }
   ],
   "source": [
    "df_test.head()"
   ]
  },
  {
   "cell_type": "code",
   "execution_count": 9,
   "metadata": {},
   "outputs": [
    {
     "name": "stdout",
     "output_type": "stream",
     "text": [
      "mix\n"
     ]
    }
   ],
   "source": [
    "# Check for Mixed Types\n",
    "for col in df_test.columns.tolist():\n",
    "  weird = (df_test[[col]].applymap(type) != df_test[[col]].iloc[0].apply(type)).any(axis = 1)\n",
    "  if len (df_test[weird]) > 0:\n",
    "    print (col)"
   ]
  },
  {
   "cell_type": "code",
   "execution_count": 10,
   "metadata": {},
   "outputs": [],
   "source": [
    "df_test['mix'] = df_test['mix'].astype('str')"
   ]
  },
  {
   "cell_type": "code",
   "execution_count": 11,
   "metadata": {},
   "outputs": [
    {
     "data": {
      "text/html": [
       "<div>\n",
       "<style scoped>\n",
       "    .dataframe tbody tr th:only-of-type {\n",
       "        vertical-align: middle;\n",
       "    }\n",
       "\n",
       "    .dataframe tbody tr th {\n",
       "        vertical-align: top;\n",
       "    }\n",
       "\n",
       "    .dataframe thead th {\n",
       "        text-align: right;\n",
       "    }\n",
       "</style>\n",
       "<table border=\"1\" class=\"dataframe\">\n",
       "  <thead>\n",
       "    <tr style=\"text-align: right;\">\n",
       "      <th></th>\n",
       "      <th>Confirmed</th>\n",
       "      <th>Deaths</th>\n",
       "      <th>Recovered</th>\n",
       "      <th>Active</th>\n",
       "      <th>New cases</th>\n",
       "      <th>New deaths</th>\n",
       "      <th>New recovered</th>\n",
       "    </tr>\n",
       "  </thead>\n",
       "  <tbody>\n",
       "    <tr>\n",
       "      <th>count</th>\n",
       "      <td>3.515600e+04</td>\n",
       "      <td>35156.000000</td>\n",
       "      <td>3.515600e+04</td>\n",
       "      <td>3.515600e+04</td>\n",
       "      <td>35156.00000</td>\n",
       "      <td>35156.000000</td>\n",
       "      <td>35156.000000</td>\n",
       "    </tr>\n",
       "    <tr>\n",
       "      <th>mean</th>\n",
       "      <td>2.356663e+04</td>\n",
       "      <td>1234.068239</td>\n",
       "      <td>1.104813e+04</td>\n",
       "      <td>1.128443e+04</td>\n",
       "      <td>469.36375</td>\n",
       "      <td>18.603339</td>\n",
       "      <td>269.315593</td>\n",
       "    </tr>\n",
       "    <tr>\n",
       "      <th>std</th>\n",
       "      <td>1.499818e+05</td>\n",
       "      <td>7437.238354</td>\n",
       "      <td>6.454640e+04</td>\n",
       "      <td>8.997149e+04</td>\n",
       "      <td>3005.86754</td>\n",
       "      <td>115.706351</td>\n",
       "      <td>2068.063852</td>\n",
       "    </tr>\n",
       "    <tr>\n",
       "      <th>min</th>\n",
       "      <td>0.000000e+00</td>\n",
       "      <td>0.000000</td>\n",
       "      <td>0.000000e+00</td>\n",
       "      <td>-2.000000e+00</td>\n",
       "      <td>0.00000</td>\n",
       "      <td>-1918.000000</td>\n",
       "      <td>-16298.000000</td>\n",
       "    </tr>\n",
       "    <tr>\n",
       "      <th>25%</th>\n",
       "      <td>1.000000e+00</td>\n",
       "      <td>0.000000</td>\n",
       "      <td>0.000000e+00</td>\n",
       "      <td>0.000000e+00</td>\n",
       "      <td>0.00000</td>\n",
       "      <td>0.000000</td>\n",
       "      <td>0.000000</td>\n",
       "    </tr>\n",
       "    <tr>\n",
       "      <th>50%</th>\n",
       "      <td>2.500000e+02</td>\n",
       "      <td>4.000000</td>\n",
       "      <td>3.300000e+01</td>\n",
       "      <td>8.500000e+01</td>\n",
       "      <td>2.00000</td>\n",
       "      <td>0.000000</td>\n",
       "      <td>0.000000</td>\n",
       "    </tr>\n",
       "    <tr>\n",
       "      <th>75%</th>\n",
       "      <td>3.640250e+03</td>\n",
       "      <td>78.250000</td>\n",
       "      <td>1.286250e+03</td>\n",
       "      <td>1.454000e+03</td>\n",
       "      <td>75.00000</td>\n",
       "      <td>1.000000</td>\n",
       "      <td>20.000000</td>\n",
       "    </tr>\n",
       "    <tr>\n",
       "      <th>max</th>\n",
       "      <td>4.290259e+06</td>\n",
       "      <td>148011.000000</td>\n",
       "      <td>1.846641e+06</td>\n",
       "      <td>2.816444e+06</td>\n",
       "      <td>77255.00000</td>\n",
       "      <td>3887.000000</td>\n",
       "      <td>140050.000000</td>\n",
       "    </tr>\n",
       "  </tbody>\n",
       "</table>\n",
       "</div>"
      ],
      "text/plain": [
       "          Confirmed         Deaths     Recovered        Active    New cases  \\\n",
       "count  3.515600e+04   35156.000000  3.515600e+04  3.515600e+04  35156.00000   \n",
       "mean   2.356663e+04    1234.068239  1.104813e+04  1.128443e+04    469.36375   \n",
       "std    1.499818e+05    7437.238354  6.454640e+04  8.997149e+04   3005.86754   \n",
       "min    0.000000e+00       0.000000  0.000000e+00 -2.000000e+00      0.00000   \n",
       "25%    1.000000e+00       0.000000  0.000000e+00  0.000000e+00      0.00000   \n",
       "50%    2.500000e+02       4.000000  3.300000e+01  8.500000e+01      2.00000   \n",
       "75%    3.640250e+03      78.250000  1.286250e+03  1.454000e+03     75.00000   \n",
       "max    4.290259e+06  148011.000000  1.846641e+06  2.816444e+06  77255.00000   \n",
       "\n",
       "         New deaths  New recovered  \n",
       "count  35156.000000   35156.000000  \n",
       "mean      18.603339     269.315593  \n",
       "std      115.706351    2068.063852  \n",
       "min    -1918.000000  -16298.000000  \n",
       "25%        0.000000       0.000000  \n",
       "50%        0.000000       0.000000  \n",
       "75%        1.000000      20.000000  \n",
       "max     3887.000000  140050.000000  "
      ]
     },
     "execution_count": 11,
     "metadata": {},
     "output_type": "execute_result"
    }
   ],
   "source": [
    "# Descriptive Statistical Analysis\n",
    "\n",
    "df_covid.describe()"
   ]
  },
  {
   "cell_type": "code",
   "execution_count": 12,
   "metadata": {},
   "outputs": [
    {
     "data": {
      "text/plain": [
       "Date             0\n",
       "Country          0\n",
       "Confirmed        0\n",
       "Deaths           0\n",
       "Recovered        0\n",
       "Active           0\n",
       "New cases        0\n",
       "New deaths       0\n",
       "New recovered    0\n",
       "WHO Region       0\n",
       "dtype: int64"
      ]
     },
     "execution_count": 12,
     "metadata": {},
     "output_type": "execute_result"
    }
   ],
   "source": [
    "# No nulls\n",
    "\n",
    "\n",
    "df_covid.isnull().sum()"
   ]
  },
  {
   "cell_type": "markdown",
   "metadata": {},
   "source": [
    "# Importing another Dataset to Merge into Main Dataset"
   ]
  },
  {
   "cell_type": "code",
   "execution_count": 13,
   "metadata": {},
   "outputs": [],
   "source": [
    "df_pop = pd.read_csv(r'/Users/seanward/Desktop/6- Achievement/02 Data/Original Data/worldometer_data.csv', index_col = False)"
   ]
  },
  {
   "cell_type": "code",
   "execution_count": 14,
   "metadata": {},
   "outputs": [
    {
     "data": {
      "text/plain": [
       "Index(['Country/Region', 'Continent', 'Population', 'TotalCases', 'NewCases',\n",
       "       'TotalDeaths', 'NewDeaths', 'TotalRecovered', 'NewRecovered',\n",
       "       'ActiveCases', 'Serious,Critical', 'Tot Cases/1M pop', 'Deaths/1M pop',\n",
       "       'TotalTests', 'Tests/1M pop', 'WHO Region'],\n",
       "      dtype='object')"
      ]
     },
     "execution_count": 14,
     "metadata": {},
     "output_type": "execute_result"
    }
   ],
   "source": [
    "df_pop.columns"
   ]
  },
  {
   "cell_type": "code",
   "execution_count": 16,
   "metadata": {},
   "outputs": [
    {
     "data": {
      "text/plain": [
       "0      3.311981e+08\n",
       "1      2.127107e+08\n",
       "2      1.381345e+09\n",
       "3      1.459409e+08\n",
       "4      5.938157e+07\n",
       "           ...     \n",
       "204    4.992000e+03\n",
       "205    2.624700e+04\n",
       "206    3.489000e+03\n",
       "207    8.010000e+02\n",
       "208    5.986820e+05\n",
       "Name: Population, Length: 209, dtype: float64"
      ]
     },
     "execution_count": 16,
     "metadata": {},
     "output_type": "execute_result"
    }
   ],
   "source": [
    "df_pop['Population']"
   ]
  },
  {
   "cell_type": "code",
   "execution_count": 17,
   "metadata": {},
   "outputs": [
    {
     "data": {
      "text/html": [
       "<div>\n",
       "<style scoped>\n",
       "    .dataframe tbody tr th:only-of-type {\n",
       "        vertical-align: middle;\n",
       "    }\n",
       "\n",
       "    .dataframe tbody tr th {\n",
       "        vertical-align: top;\n",
       "    }\n",
       "\n",
       "    .dataframe thead th {\n",
       "        text-align: right;\n",
       "    }\n",
       "</style>\n",
       "<table border=\"1\" class=\"dataframe\">\n",
       "  <thead>\n",
       "    <tr style=\"text-align: right;\">\n",
       "      <th></th>\n",
       "      <th>Population</th>\n",
       "      <th>TotalCases</th>\n",
       "      <th>NewCases</th>\n",
       "      <th>TotalDeaths</th>\n",
       "      <th>NewDeaths</th>\n",
       "      <th>TotalRecovered</th>\n",
       "      <th>NewRecovered</th>\n",
       "      <th>ActiveCases</th>\n",
       "      <th>Serious,Critical</th>\n",
       "      <th>Tot Cases/1M pop</th>\n",
       "      <th>Deaths/1M pop</th>\n",
       "      <th>TotalTests</th>\n",
       "      <th>Tests/1M pop</th>\n",
       "    </tr>\n",
       "  </thead>\n",
       "  <tbody>\n",
       "    <tr>\n",
       "      <th>count</th>\n",
       "      <td>2.080000e+02</td>\n",
       "      <td>2.090000e+02</td>\n",
       "      <td>4.000000</td>\n",
       "      <td>188.000000</td>\n",
       "      <td>3.000000</td>\n",
       "      <td>2.050000e+02</td>\n",
       "      <td>3.000000</td>\n",
       "      <td>2.050000e+02</td>\n",
       "      <td>122.000000</td>\n",
       "      <td>208.000000</td>\n",
       "      <td>187.000000</td>\n",
       "      <td>1.910000e+02</td>\n",
       "      <td>191.000000</td>\n",
       "    </tr>\n",
       "    <tr>\n",
       "      <th>mean</th>\n",
       "      <td>3.041549e+07</td>\n",
       "      <td>9.171850e+04</td>\n",
       "      <td>1980.500000</td>\n",
       "      <td>3792.590426</td>\n",
       "      <td>300.000000</td>\n",
       "      <td>5.887898e+04</td>\n",
       "      <td>1706.000000</td>\n",
       "      <td>2.766433e+04</td>\n",
       "      <td>534.393443</td>\n",
       "      <td>3196.024038</td>\n",
       "      <td>98.681176</td>\n",
       "      <td>1.402405e+06</td>\n",
       "      <td>83959.366492</td>\n",
       "    </tr>\n",
       "    <tr>\n",
       "      <th>std</th>\n",
       "      <td>1.047661e+08</td>\n",
       "      <td>4.325867e+05</td>\n",
       "      <td>3129.611424</td>\n",
       "      <td>15487.184877</td>\n",
       "      <td>451.199512</td>\n",
       "      <td>2.566984e+05</td>\n",
       "      <td>2154.779803</td>\n",
       "      <td>1.746327e+05</td>\n",
       "      <td>2047.518613</td>\n",
       "      <td>5191.986457</td>\n",
       "      <td>174.956862</td>\n",
       "      <td>5.553367e+06</td>\n",
       "      <td>152730.591240</td>\n",
       "    </tr>\n",
       "    <tr>\n",
       "      <th>min</th>\n",
       "      <td>8.010000e+02</td>\n",
       "      <td>1.000000e+01</td>\n",
       "      <td>20.000000</td>\n",
       "      <td>1.000000</td>\n",
       "      <td>1.000000</td>\n",
       "      <td>7.000000e+00</td>\n",
       "      <td>42.000000</td>\n",
       "      <td>0.000000e+00</td>\n",
       "      <td>1.000000</td>\n",
       "      <td>3.000000</td>\n",
       "      <td>0.080000</td>\n",
       "      <td>6.100000e+01</td>\n",
       "      <td>4.000000</td>\n",
       "    </tr>\n",
       "    <tr>\n",
       "      <th>25%</th>\n",
       "      <td>9.663140e+05</td>\n",
       "      <td>7.120000e+02</td>\n",
       "      <td>27.500000</td>\n",
       "      <td>22.000000</td>\n",
       "      <td>40.500000</td>\n",
       "      <td>3.340000e+02</td>\n",
       "      <td>489.000000</td>\n",
       "      <td>8.600000e+01</td>\n",
       "      <td>3.250000</td>\n",
       "      <td>282.000000</td>\n",
       "      <td>6.000000</td>\n",
       "      <td>2.575200e+04</td>\n",
       "      <td>8956.500000</td>\n",
       "    </tr>\n",
       "    <tr>\n",
       "      <th>50%</th>\n",
       "      <td>7.041972e+06</td>\n",
       "      <td>4.491000e+03</td>\n",
       "      <td>656.000000</td>\n",
       "      <td>113.000000</td>\n",
       "      <td>80.000000</td>\n",
       "      <td>2.178000e+03</td>\n",
       "      <td>936.000000</td>\n",
       "      <td>8.990000e+02</td>\n",
       "      <td>27.500000</td>\n",
       "      <td>1015.000000</td>\n",
       "      <td>29.000000</td>\n",
       "      <td>1.357020e+05</td>\n",
       "      <td>32585.000000</td>\n",
       "    </tr>\n",
       "    <tr>\n",
       "      <th>75%</th>\n",
       "      <td>2.575614e+07</td>\n",
       "      <td>3.689600e+04</td>\n",
       "      <td>2609.000000</td>\n",
       "      <td>786.000000</td>\n",
       "      <td>449.500000</td>\n",
       "      <td>2.055300e+04</td>\n",
       "      <td>2538.000000</td>\n",
       "      <td>7.124000e+03</td>\n",
       "      <td>160.250000</td>\n",
       "      <td>3841.750000</td>\n",
       "      <td>98.000000</td>\n",
       "      <td>7.576960e+05</td>\n",
       "      <td>92154.500000</td>\n",
       "    </tr>\n",
       "    <tr>\n",
       "      <th>max</th>\n",
       "      <td>1.381345e+09</td>\n",
       "      <td>5.032179e+06</td>\n",
       "      <td>6590.000000</td>\n",
       "      <td>162804.000000</td>\n",
       "      <td>819.000000</td>\n",
       "      <td>2.576668e+06</td>\n",
       "      <td>4140.000000</td>\n",
       "      <td>2.292707e+06</td>\n",
       "      <td>18296.000000</td>\n",
       "      <td>39922.000000</td>\n",
       "      <td>1238.000000</td>\n",
       "      <td>6.313960e+07</td>\n",
       "      <td>995282.000000</td>\n",
       "    </tr>\n",
       "  </tbody>\n",
       "</table>\n",
       "</div>"
      ],
      "text/plain": [
       "         Population    TotalCases     NewCases    TotalDeaths   NewDeaths  \\\n",
       "count  2.080000e+02  2.090000e+02     4.000000     188.000000    3.000000   \n",
       "mean   3.041549e+07  9.171850e+04  1980.500000    3792.590426  300.000000   \n",
       "std    1.047661e+08  4.325867e+05  3129.611424   15487.184877  451.199512   \n",
       "min    8.010000e+02  1.000000e+01    20.000000       1.000000    1.000000   \n",
       "25%    9.663140e+05  7.120000e+02    27.500000      22.000000   40.500000   \n",
       "50%    7.041972e+06  4.491000e+03   656.000000     113.000000   80.000000   \n",
       "75%    2.575614e+07  3.689600e+04  2609.000000     786.000000  449.500000   \n",
       "max    1.381345e+09  5.032179e+06  6590.000000  162804.000000  819.000000   \n",
       "\n",
       "       TotalRecovered  NewRecovered   ActiveCases  Serious,Critical  \\\n",
       "count    2.050000e+02      3.000000  2.050000e+02        122.000000   \n",
       "mean     5.887898e+04   1706.000000  2.766433e+04        534.393443   \n",
       "std      2.566984e+05   2154.779803  1.746327e+05       2047.518613   \n",
       "min      7.000000e+00     42.000000  0.000000e+00          1.000000   \n",
       "25%      3.340000e+02    489.000000  8.600000e+01          3.250000   \n",
       "50%      2.178000e+03    936.000000  8.990000e+02         27.500000   \n",
       "75%      2.055300e+04   2538.000000  7.124000e+03        160.250000   \n",
       "max      2.576668e+06   4140.000000  2.292707e+06      18296.000000   \n",
       "\n",
       "       Tot Cases/1M pop  Deaths/1M pop    TotalTests   Tests/1M pop  \n",
       "count        208.000000     187.000000  1.910000e+02     191.000000  \n",
       "mean        3196.024038      98.681176  1.402405e+06   83959.366492  \n",
       "std         5191.986457     174.956862  5.553367e+06  152730.591240  \n",
       "min            3.000000       0.080000  6.100000e+01       4.000000  \n",
       "25%          282.000000       6.000000  2.575200e+04    8956.500000  \n",
       "50%         1015.000000      29.000000  1.357020e+05   32585.000000  \n",
       "75%         3841.750000      98.000000  7.576960e+05   92154.500000  \n",
       "max        39922.000000    1238.000000  6.313960e+07  995282.000000  "
      ]
     },
     "execution_count": 17,
     "metadata": {},
     "output_type": "execute_result"
    }
   ],
   "source": [
    "df_pop.describe()"
   ]
  },
  {
   "cell_type": "code",
   "execution_count": 18,
   "metadata": {},
   "outputs": [],
   "source": [
    "# Renaming columns for clarity purposes\n",
    "\n",
    "df_pop.rename(columns = { 'Country/Region' : 'Country' }, inplace = True)"
   ]
  },
  {
   "cell_type": "code",
   "execution_count": 19,
   "metadata": {},
   "outputs": [],
   "source": [
    "df_covid.to_csv(os.path.join(path, '02 Data','Prepared Data', 'full_grouped_clean.csv')) "
   ]
  },
  {
   "cell_type": "code",
   "execution_count": null,
   "metadata": {},
   "outputs": [],
   "source": []
  }
 ],
 "metadata": {
  "kernelspec": {
   "display_name": "Python 3",
   "language": "python",
   "name": "python3"
  },
  "language_info": {
   "codemirror_mode": {
    "name": "ipython",
    "version": 3
   },
   "file_extension": ".py",
   "mimetype": "text/x-python",
   "name": "python",
   "nbconvert_exporter": "python",
   "pygments_lexer": "ipython3",
   "version": "3.8.3"
  }
 },
 "nbformat": 4,
 "nbformat_minor": 4
}
