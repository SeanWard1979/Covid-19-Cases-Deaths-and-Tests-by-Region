{
 "cells": [
  {
   "cell_type": "markdown",
   "metadata": {},
   "source": [
    "# Question 1: Install and Import Libraries"
   ]
  },
  {
   "cell_type": "code",
   "execution_count": 33,
   "metadata": {},
   "outputs": [],
   "source": [
    "import pandas as pd\n",
    "import numpy as np\n",
    "import seaborn as sns\n",
    "import matplotlib\n",
    "import matplotlib.pyplot as plt\n",
    "import os\n",
    "import sklearn\n",
    "from sklearn.cluster import KMeans \n",
    "import pylab as pl "
   ]
  },
  {
   "cell_type": "code",
   "execution_count": 34,
   "metadata": {},
   "outputs": [],
   "source": [
    "%matplotlib inline"
   ]
  },
  {
   "cell_type": "markdown",
   "metadata": {},
   "source": [
    "# Question 2: Import and Clean Data  "
   ]
  },
  {
   "cell_type": "code",
   "execution_count": 35,
   "metadata": {},
   "outputs": [],
   "source": [
    "path = '/Users/seanward/Desktop/6- Achievement'"
   ]
  },
  {
   "cell_type": "code",
   "execution_count": 36,
   "metadata": {},
   "outputs": [],
   "source": [
    "# Importing data\n",
    "\n",
    "df = pd.read_csv(os.path.join(path, '02 Data', 'Prepared Data', 'worldometer_data_edited4.csv'))"
   ]
  },
  {
   "cell_type": "code",
   "execution_count": 37,
   "metadata": {},
   "outputs": [
    {
     "data": {
      "text/plain": [
       "(191, 13)"
      ]
     },
     "execution_count": 37,
     "metadata": {},
     "output_type": "execute_result"
    }
   ],
   "source": [
    "df.shape"
   ]
  },
  {
   "cell_type": "code",
   "execution_count": 38,
   "metadata": {},
   "outputs": [
    {
     "data": {
      "text/html": [
       "<div>\n",
       "<style scoped>\n",
       "    .dataframe tbody tr th:only-of-type {\n",
       "        vertical-align: middle;\n",
       "    }\n",
       "\n",
       "    .dataframe tbody tr th {\n",
       "        vertical-align: top;\n",
       "    }\n",
       "\n",
       "    .dataframe thead th {\n",
       "        text-align: right;\n",
       "    }\n",
       "</style>\n",
       "<table border=\"1\" class=\"dataframe\">\n",
       "  <thead>\n",
       "    <tr style=\"text-align: right;\">\n",
       "      <th></th>\n",
       "      <th>Country/Region</th>\n",
       "      <th>Population</th>\n",
       "      <th>Total Cases</th>\n",
       "      <th>Total Deaths</th>\n",
       "      <th>% of Population With Covid</th>\n",
       "      <th>% of Cases that Result in Death</th>\n",
       "      <th>Tot Cases/1M pop</th>\n",
       "      <th>Deaths/1M pop</th>\n",
       "      <th>Total Tests</th>\n",
       "      <th>Tests/1M pop</th>\n",
       "      <th>WHO Region</th>\n",
       "      <th>Country Test Rate</th>\n",
       "      <th>country_flag</th>\n",
       "    </tr>\n",
       "  </thead>\n",
       "  <tbody>\n",
       "    <tr>\n",
       "      <th>0</th>\n",
       "      <td>USA</td>\n",
       "      <td>331198130</td>\n",
       "      <td>5032179</td>\n",
       "      <td>162804</td>\n",
       "      <td>1.52%</td>\n",
       "      <td>3.24%</td>\n",
       "      <td>15194</td>\n",
       "      <td>492.0</td>\n",
       "      <td>63139605</td>\n",
       "      <td>190640</td>\n",
       "      <td>Americas</td>\n",
       "      <td>0.190640</td>\n",
       "      <td>High Test Rate</td>\n",
       "    </tr>\n",
       "    <tr>\n",
       "      <th>1</th>\n",
       "      <td>Brazil</td>\n",
       "      <td>212710692</td>\n",
       "      <td>2917562</td>\n",
       "      <td>98644</td>\n",
       "      <td>1.37%</td>\n",
       "      <td>3.38%</td>\n",
       "      <td>13716</td>\n",
       "      <td>464.0</td>\n",
       "      <td>13206188</td>\n",
       "      <td>62085</td>\n",
       "      <td>Americas</td>\n",
       "      <td>0.062085</td>\n",
       "      <td>Medium Test Rate</td>\n",
       "    </tr>\n",
       "    <tr>\n",
       "      <th>2</th>\n",
       "      <td>India</td>\n",
       "      <td>1381344997</td>\n",
       "      <td>2025409</td>\n",
       "      <td>41638</td>\n",
       "      <td>0.15%</td>\n",
       "      <td>2.06%</td>\n",
       "      <td>1466</td>\n",
       "      <td>30.0</td>\n",
       "      <td>22149351</td>\n",
       "      <td>16035</td>\n",
       "      <td>South-EastAsia</td>\n",
       "      <td>0.016035</td>\n",
       "      <td>Lower Test Rate</td>\n",
       "    </tr>\n",
       "    <tr>\n",
       "      <th>3</th>\n",
       "      <td>Russia</td>\n",
       "      <td>145940924</td>\n",
       "      <td>871894</td>\n",
       "      <td>14606</td>\n",
       "      <td>0.60%</td>\n",
       "      <td>1.68%</td>\n",
       "      <td>5974</td>\n",
       "      <td>100.0</td>\n",
       "      <td>29716907</td>\n",
       "      <td>203623</td>\n",
       "      <td>Europe</td>\n",
       "      <td>0.203623</td>\n",
       "      <td>High Test Rate</td>\n",
       "    </tr>\n",
       "    <tr>\n",
       "      <th>4</th>\n",
       "      <td>South Africa</td>\n",
       "      <td>59381566</td>\n",
       "      <td>538184</td>\n",
       "      <td>9604</td>\n",
       "      <td>0.91%</td>\n",
       "      <td>1.79%</td>\n",
       "      <td>9063</td>\n",
       "      <td>162.0</td>\n",
       "      <td>3149807</td>\n",
       "      <td>53044</td>\n",
       "      <td>Africa</td>\n",
       "      <td>0.053044</td>\n",
       "      <td>Medium Test Rate</td>\n",
       "    </tr>\n",
       "  </tbody>\n",
       "</table>\n",
       "</div>"
      ],
      "text/plain": [
       "  Country/Region  Population  Total Cases  Total Deaths  \\\n",
       "0            USA   331198130      5032179        162804   \n",
       "1         Brazil   212710692      2917562         98644   \n",
       "2          India  1381344997      2025409         41638   \n",
       "3         Russia   145940924       871894         14606   \n",
       "4   South Africa    59381566       538184          9604   \n",
       "\n",
       "  % of Population With Covid % of Cases that Result in Death  \\\n",
       "0                      1.52%                           3.24%   \n",
       "1                      1.37%                           3.38%   \n",
       "2                      0.15%                           2.06%   \n",
       "3                      0.60%                           1.68%   \n",
       "4                      0.91%                           1.79%   \n",
       "\n",
       "   Tot Cases/1M pop  Deaths/1M pop  Total Tests  Tests/1M pop      WHO Region  \\\n",
       "0             15194          492.0     63139605        190640        Americas   \n",
       "1             13716          464.0     13206188         62085        Americas   \n",
       "2              1466           30.0     22149351         16035  South-EastAsia   \n",
       "3              5974          100.0     29716907        203623          Europe   \n",
       "4              9063          162.0      3149807         53044          Africa   \n",
       "\n",
       "   Country Test Rate      country_flag  \n",
       "0           0.190640    High Test Rate  \n",
       "1           0.062085  Medium Test Rate  \n",
       "2           0.016035   Lower Test Rate  \n",
       "3           0.203623    High Test Rate  \n",
       "4           0.053044  Medium Test Rate  "
      ]
     },
     "execution_count": 38,
     "metadata": {},
     "output_type": "execute_result"
    }
   ],
   "source": [
    "df.head()"
   ]
  },
  {
   "cell_type": "code",
   "execution_count": 39,
   "metadata": {},
   "outputs": [],
   "source": [
    "# Dropping categorical columns.\n",
    "\n",
    "df = df.drop(columns = ['Country/Region', 'WHO Region', 'country_flag'])"
   ]
  },
  {
   "cell_type": "code",
   "execution_count": 40,
   "metadata": {},
   "outputs": [],
   "source": [
    "df = df.drop(columns = ['% of Population With Covid', '% of Cases that Result in Death'])"
   ]
  },
  {
   "cell_type": "code",
   "execution_count": 41,
   "metadata": {},
   "outputs": [
    {
     "data": {
      "text/html": [
       "<div>\n",
       "<style scoped>\n",
       "    .dataframe tbody tr th:only-of-type {\n",
       "        vertical-align: middle;\n",
       "    }\n",
       "\n",
       "    .dataframe tbody tr th {\n",
       "        vertical-align: top;\n",
       "    }\n",
       "\n",
       "    .dataframe thead th {\n",
       "        text-align: right;\n",
       "    }\n",
       "</style>\n",
       "<table border=\"1\" class=\"dataframe\">\n",
       "  <thead>\n",
       "    <tr style=\"text-align: right;\">\n",
       "      <th></th>\n",
       "      <th>Population</th>\n",
       "      <th>Total Cases</th>\n",
       "      <th>Total Deaths</th>\n",
       "      <th>Tot Cases/1M pop</th>\n",
       "      <th>Deaths/1M pop</th>\n",
       "      <th>Total Tests</th>\n",
       "      <th>Tests/1M pop</th>\n",
       "      <th>Country Test Rate</th>\n",
       "    </tr>\n",
       "  </thead>\n",
       "  <tbody>\n",
       "    <tr>\n",
       "      <th>0</th>\n",
       "      <td>331198130</td>\n",
       "      <td>5032179</td>\n",
       "      <td>162804</td>\n",
       "      <td>15194</td>\n",
       "      <td>492.0</td>\n",
       "      <td>63139605</td>\n",
       "      <td>190640</td>\n",
       "      <td>0.190640</td>\n",
       "    </tr>\n",
       "    <tr>\n",
       "      <th>1</th>\n",
       "      <td>212710692</td>\n",
       "      <td>2917562</td>\n",
       "      <td>98644</td>\n",
       "      <td>13716</td>\n",
       "      <td>464.0</td>\n",
       "      <td>13206188</td>\n",
       "      <td>62085</td>\n",
       "      <td>0.062085</td>\n",
       "    </tr>\n",
       "    <tr>\n",
       "      <th>2</th>\n",
       "      <td>1381344997</td>\n",
       "      <td>2025409</td>\n",
       "      <td>41638</td>\n",
       "      <td>1466</td>\n",
       "      <td>30.0</td>\n",
       "      <td>22149351</td>\n",
       "      <td>16035</td>\n",
       "      <td>0.016035</td>\n",
       "    </tr>\n",
       "    <tr>\n",
       "      <th>3</th>\n",
       "      <td>145940924</td>\n",
       "      <td>871894</td>\n",
       "      <td>14606</td>\n",
       "      <td>5974</td>\n",
       "      <td>100.0</td>\n",
       "      <td>29716907</td>\n",
       "      <td>203623</td>\n",
       "      <td>0.203623</td>\n",
       "    </tr>\n",
       "    <tr>\n",
       "      <th>4</th>\n",
       "      <td>59381566</td>\n",
       "      <td>538184</td>\n",
       "      <td>9604</td>\n",
       "      <td>9063</td>\n",
       "      <td>162.0</td>\n",
       "      <td>3149807</td>\n",
       "      <td>53044</td>\n",
       "      <td>0.053044</td>\n",
       "    </tr>\n",
       "  </tbody>\n",
       "</table>\n",
       "</div>"
      ],
      "text/plain": [
       "   Population  Total Cases  Total Deaths  Tot Cases/1M pop  Deaths/1M pop  \\\n",
       "0   331198130      5032179        162804             15194          492.0   \n",
       "1   212710692      2917562         98644             13716          464.0   \n",
       "2  1381344997      2025409         41638              1466           30.0   \n",
       "3   145940924       871894         14606              5974          100.0   \n",
       "4    59381566       538184          9604              9063          162.0   \n",
       "\n",
       "   Total Tests  Tests/1M pop  Country Test Rate  \n",
       "0     63139605        190640           0.190640  \n",
       "1     13206188         62085           0.062085  \n",
       "2     22149351         16035           0.016035  \n",
       "3     29716907        203623           0.203623  \n",
       "4      3149807         53044           0.053044  "
      ]
     },
     "execution_count": 41,
     "metadata": {},
     "output_type": "execute_result"
    }
   ],
   "source": [
    "df.head()"
   ]
  },
  {
   "cell_type": "markdown",
   "metadata": {},
   "source": [
    "# Question 3: Elbow Technique"
   ]
  },
  {
   "cell_type": "code",
   "execution_count": 42,
   "metadata": {},
   "outputs": [],
   "source": [
    "num_cl = range(1, 10) \n",
    "kmeans = [KMeans(n_clusters=i) for i in num_cl] "
   ]
  },
  {
   "cell_type": "code",
   "execution_count": 43,
   "metadata": {},
   "outputs": [
    {
     "data": {
      "text/plain": [
       "[-2.265354325328942e+18,\n",
       " -4.3332475998143974e+17,\n",
       " -1.2833585826404483e+17,\n",
       " -6.106376909617949e+16,\n",
       " -3.279072872582099e+16,\n",
       " -2.1586847199328336e+16,\n",
       " -1.4941622107004992e+16,\n",
       " -1.1459390453588126e+16,\n",
       " -8286782563490518.0]"
      ]
     },
     "execution_count": 43,
     "metadata": {},
     "output_type": "execute_result"
    }
   ],
   "source": [
    "score = [kmeans[i].fit(df).score(df) for i in range(len(kmeans))]\n",
    "\n",
    "score"
   ]
  },
  {
   "cell_type": "code",
   "execution_count": 44,
   "metadata": {},
   "outputs": [
    {
     "data": {
      "image/png": "[encoded data removed]",
      "text/plain": [
       "<Figure size 432x288 with 1 Axes>"
      ]
     },
     "metadata": {
      "needs_background": "light"
     },
     "output_type": "display_data"
    }
   ],
   "source": [
    "# Plot the elbow curve using PyLab.\n",
    "\n",
    "pl.plot(num_cl,score)\n",
    "pl.xlabel('Number of Clusters')\n",
    "pl.ylabel('Score')\n",
    "pl.title('Elbow Curve')\n",
    "pl.show()"
   ]
  },
  {
   "cell_type": "markdown",
   "metadata": {},
   "source": [
    "# Question 4: # of clusters to use:\n",
    "The line seems to straighten out at 3 so I would say that the optimal count\n",
    "for my clusters would be 3.\n"
   ]
  },
  {
   "cell_type": "markdown",
   "metadata": {},
   "source": [
    "# Question 5 k-means algorithm"
   ]
  },
  {
   "cell_type": "code",
   "execution_count": 45,
   "metadata": {},
   "outputs": [],
   "source": [
    "# Create the k-means object.\n",
    "\n",
    "kmeans = KMeans(n_clusters = 3, n_jobs = -1) "
   ]
  },
  {
   "cell_type": "code",
   "execution_count": 46,
   "metadata": {},
   "outputs": [
    {
     "name": "stderr",
     "output_type": "stream",
     "text": [
      "/Users/smw/opt/anaconda3/lib/python3.8/site-packages/sklearn/cluster/_kmeans.py:973: FutureWarning: 'n_jobs' was deprecated in version 0.23 and will be removed in 0.25.\n",
      "  warnings.warn(\"'n_jobs' was deprecated in version 0.23 and will be\"\n"
     ]
    },
    {
     "data": {
      "text/plain": [
       "KMeans(n_clusters=3, n_jobs=-1)"
      ]
     },
     "execution_count": 46,
     "metadata": {},
     "output_type": "execute_result"
    }
   ],
   "source": [
    "# Fit the k-means object to the data.\n",
    "\n",
    "kmeans.fit(df)"
   ]
  },
  {
   "cell_type": "markdown",
   "metadata": {},
   "source": [
    "# Question 6: New column"
   ]
  },
  {
   "cell_type": "code",
   "execution_count": 47,
   "metadata": {},
   "outputs": [
    {
     "name": "stderr",
     "output_type": "stream",
     "text": [
      "/Users/smw/opt/anaconda3/lib/python3.8/site-packages/sklearn/cluster/_kmeans.py:973: FutureWarning: 'n_jobs' was deprecated in version 0.23 and will be removed in 0.25.\n",
      "  warnings.warn(\"'n_jobs' was deprecated in version 0.23 and will be\"\n"
     ]
    }
   ],
   "source": [
    "df['clusters'] = kmeans.fit_predict(df)"
   ]
  },
  {
   "cell_type": "code",
   "execution_count": 48,
   "metadata": {},
   "outputs": [
    {
     "data": {
      "text/html": [
       "<div>\n",
       "<style scoped>\n",
       "    .dataframe tbody tr th:only-of-type {\n",
       "        vertical-align: middle;\n",
       "    }\n",
       "\n",
       "    .dataframe tbody tr th {\n",
       "        vertical-align: top;\n",
       "    }\n",
       "\n",
       "    .dataframe thead th {\n",
       "        text-align: right;\n",
       "    }\n",
       "</style>\n",
       "<table border=\"1\" class=\"dataframe\">\n",
       "  <thead>\n",
       "    <tr style=\"text-align: right;\">\n",
       "      <th></th>\n",
       "      <th>Population</th>\n",
       "      <th>Total Cases</th>\n",
       "      <th>Total Deaths</th>\n",
       "      <th>Tot Cases/1M pop</th>\n",
       "      <th>Deaths/1M pop</th>\n",
       "      <th>Total Tests</th>\n",
       "      <th>Tests/1M pop</th>\n",
       "      <th>Country Test Rate</th>\n",
       "      <th>clusters</th>\n",
       "    </tr>\n",
       "  </thead>\n",
       "  <tbody>\n",
       "    <tr>\n",
       "      <th>0</th>\n",
       "      <td>331198130</td>\n",
       "      <td>5032179</td>\n",
       "      <td>162804</td>\n",
       "      <td>15194</td>\n",
       "      <td>492.0</td>\n",
       "      <td>63139605</td>\n",
       "      <td>190640</td>\n",
       "      <td>0.190640</td>\n",
       "      <td>2</td>\n",
       "    </tr>\n",
       "    <tr>\n",
       "      <th>1</th>\n",
       "      <td>212710692</td>\n",
       "      <td>2917562</td>\n",
       "      <td>98644</td>\n",
       "      <td>13716</td>\n",
       "      <td>464.0</td>\n",
       "      <td>13206188</td>\n",
       "      <td>62085</td>\n",
       "      <td>0.062085</td>\n",
       "      <td>2</td>\n",
       "    </tr>\n",
       "    <tr>\n",
       "      <th>2</th>\n",
       "      <td>1381344997</td>\n",
       "      <td>2025409</td>\n",
       "      <td>41638</td>\n",
       "      <td>1466</td>\n",
       "      <td>30.0</td>\n",
       "      <td>22149351</td>\n",
       "      <td>16035</td>\n",
       "      <td>0.016035</td>\n",
       "      <td>1</td>\n",
       "    </tr>\n",
       "    <tr>\n",
       "      <th>3</th>\n",
       "      <td>145940924</td>\n",
       "      <td>871894</td>\n",
       "      <td>14606</td>\n",
       "      <td>5974</td>\n",
       "      <td>100.0</td>\n",
       "      <td>29716907</td>\n",
       "      <td>203623</td>\n",
       "      <td>0.203623</td>\n",
       "      <td>2</td>\n",
       "    </tr>\n",
       "    <tr>\n",
       "      <th>4</th>\n",
       "      <td>59381566</td>\n",
       "      <td>538184</td>\n",
       "      <td>9604</td>\n",
       "      <td>9063</td>\n",
       "      <td>162.0</td>\n",
       "      <td>3149807</td>\n",
       "      <td>53044</td>\n",
       "      <td>0.053044</td>\n",
       "      <td>0</td>\n",
       "    </tr>\n",
       "  </tbody>\n",
       "</table>\n",
       "</div>"
      ],
      "text/plain": [
       "   Population  Total Cases  Total Deaths  Tot Cases/1M pop  Deaths/1M pop  \\\n",
       "0   331198130      5032179        162804             15194          492.0   \n",
       "1   212710692      2917562         98644             13716          464.0   \n",
       "2  1381344997      2025409         41638              1466           30.0   \n",
       "3   145940924       871894         14606              5974          100.0   \n",
       "4    59381566       538184          9604              9063          162.0   \n",
       "\n",
       "   Total Tests  Tests/1M pop  Country Test Rate  clusters  \n",
       "0     63139605        190640           0.190640         2  \n",
       "1     13206188         62085           0.062085         2  \n",
       "2     22149351         16035           0.016035         1  \n",
       "3     29716907        203623           0.203623         2  \n",
       "4      3149807         53044           0.053044         0  "
      ]
     },
     "execution_count": 48,
     "metadata": {},
     "output_type": "execute_result"
    }
   ],
   "source": [
    "df.head()"
   ]
  },
  {
   "cell_type": "code",
   "execution_count": 49,
   "metadata": {},
   "outputs": [
    {
     "data": {
      "text/plain": [
       "0    177\n",
       "2     13\n",
       "1      1\n",
       "Name: clusters, dtype: int64"
      ]
     },
     "execution_count": 49,
     "metadata": {},
     "output_type": "execute_result"
    }
   ],
   "source": [
    "df['clusters'].value_counts()"
   ]
  },
  {
   "cell_type": "markdown",
   "metadata": {},
   "source": [
    "# Question 7: Create visualizations"
   ]
  },
  {
   "cell_type": "code",
   "execution_count": 55,
   "metadata": {},
   "outputs": [
    {
     "data": {
      "image/png": "[encoded data removed]",
      "text/plain": [
       "<Figure size 864x576 with 1 Axes>"
      ]
     },
     "metadata": {
      "needs_background": "light"
     },
     "output_type": "display_data"
    }
   ],
   "source": [
    "# Plot the clusters for the \"Tests 1M/pop\" and \"Deaths/1M pop\" variables.\n",
    "\n",
    "plt.figure(figsize=(12,8))\n",
    "ax = sns.scatterplot(x=df['Tests/1M pop'], y=df['Deaths/1M pop'], hue=kmeans.labels_, s=100) \n",
    "\n",
    "ax.grid(False) \n",
    "plt.xlabel('Tests/1M pop') # Label x-axis.\n",
    "plt.ylabel('Deaths/1M pop') # Label y-axis.\n",
    "plt.show()"
   ]
  },
  {
   "cell_type": "code",
   "execution_count": 69,
   "metadata": {},
   "outputs": [
    {
     "data": {
      "image/png": "[encoded data removed]",
      "text/plain": [
       "<Figure size 864x576 with 1 Axes>"
      ]
     },
     "metadata": {
      "needs_background": "light"
     },
     "output_type": "display_data"
    }
   ],
   "source": [
    "# Plot the clusters for the \"Total Deaths\" and \"Population\" variables.\n",
    "\n",
    "plt.figure(figsize=(12,8))\n",
    "ax = sns.scatterplot(x=df['Total Deaths'], y=df['Population'], hue=kmeans.labels_, s=100)\n",
    "\n",
    "ax.grid(False) \n",
    "plt.xlabel('Total Deaths') \n",
    "plt.ylabel('Population') \n",
    "plt.show()"
   ]
  },
  {
   "cell_type": "markdown",
   "metadata": {},
   "source": [
    "# Question 8: Discuss how and why the clusters make sense:\n",
    "# I don't think the clusters make all that much sense. There are too many values that are near zero and the clusters aren't really clustered together in a meaningful way.  I think the descriptive statistics for this data is more helpful."
   ]
  },
  {
   "cell_type": "code",
   "execution_count": 66,
   "metadata": {},
   "outputs": [],
   "source": [
    "df.loc[df['clusters'] == 2, 'cluster'] = 'dark purple'\n",
    "df.loc[df['clusters'] == 1, 'cluster'] = 'purple'\n",
    "df.loc[df['clusters'] == 0, 'cluster'] = 'pink'"
   ]
  },
  {
   "cell_type": "markdown",
   "metadata": {},
   "source": [
    "# Question 9: Descriptive statistics."
   ]
  },
  {
   "cell_type": "code",
   "execution_count": 67,
   "metadata": {},
   "outputs": [
    {
     "data": {
      "text/html": [
       "<div>\n",
       "<style scoped>\n",
       "    .dataframe tbody tr th:only-of-type {\n",
       "        vertical-align: middle;\n",
       "    }\n",
       "\n",
       "    .dataframe tbody tr th {\n",
       "        vertical-align: top;\n",
       "    }\n",
       "\n",
       "    .dataframe thead tr th {\n",
       "        text-align: left;\n",
       "    }\n",
       "\n",
       "    .dataframe thead tr:last-of-type th {\n",
       "        text-align: right;\n",
       "    }\n",
       "</style>\n",
       "<table border=\"1\" class=\"dataframe\">\n",
       "  <thead>\n",
       "    <tr>\n",
       "      <th></th>\n",
       "      <th colspan=\"2\" halign=\"left\">Tests/1M pop</th>\n",
       "      <th colspan=\"2\" halign=\"left\">Deaths/1M pop</th>\n",
       "      <th colspan=\"2\" halign=\"left\">Total Deaths</th>\n",
       "      <th colspan=\"2\" halign=\"left\">Population</th>\n",
       "    </tr>\n",
       "    <tr>\n",
       "      <th></th>\n",
       "      <th>mean</th>\n",
       "      <th>median</th>\n",
       "      <th>mean</th>\n",
       "      <th>median</th>\n",
       "      <th>mean</th>\n",
       "      <th>median</th>\n",
       "      <th>mean</th>\n",
       "      <th>median</th>\n",
       "    </tr>\n",
       "    <tr>\n",
       "      <th>cluster</th>\n",
       "      <th></th>\n",
       "      <th></th>\n",
       "      <th></th>\n",
       "      <th></th>\n",
       "      <th></th>\n",
       "      <th></th>\n",
       "      <th></th>\n",
       "      <th></th>\n",
       "    </tr>\n",
       "  </thead>\n",
       "  <tbody>\n",
       "    <tr>\n",
       "      <th>dark purple</th>\n",
       "      <td>40131.230769</td>\n",
       "      <td>7432</td>\n",
       "      <td>122.930769</td>\n",
       "      <td>20.0</td>\n",
       "      <td>26989.615385</td>\n",
       "      <td>4951</td>\n",
       "      <td>1.720617e+08</td>\n",
       "      <td>145940924</td>\n",
       "    </tr>\n",
       "    <tr>\n",
       "      <th>pink</th>\n",
       "      <td>87562.135593</td>\n",
       "      <td>37448</td>\n",
       "      <td>94.400452</td>\n",
       "      <td>28.0</td>\n",
       "      <td>1798.389831</td>\n",
       "      <td>65</td>\n",
       "      <td>1.358115e+07</td>\n",
       "      <td>5541604</td>\n",
       "    </tr>\n",
       "    <tr>\n",
       "      <th>purple</th>\n",
       "      <td>16035.000000</td>\n",
       "      <td>16035</td>\n",
       "      <td>30.000000</td>\n",
       "      <td>30.0</td>\n",
       "      <td>41638.000000</td>\n",
       "      <td>41638</td>\n",
       "      <td>1.381345e+09</td>\n",
       "      <td>1381344997</td>\n",
       "    </tr>\n",
       "  </tbody>\n",
       "</table>\n",
       "</div>"
      ],
      "text/plain": [
       "             Tests/1M pop        Deaths/1M pop         Total Deaths         \\\n",
       "                     mean median          mean median          mean median   \n",
       "cluster                                                                      \n",
       "dark purple  40131.230769   7432    122.930769   20.0  26989.615385   4951   \n",
       "pink         87562.135593  37448     94.400452   28.0   1798.389831     65   \n",
       "purple       16035.000000  16035     30.000000   30.0  41638.000000  41638   \n",
       "\n",
       "               Population              \n",
       "                     mean      median  \n",
       "cluster                                \n",
       "dark purple  1.720617e+08   145940924  \n",
       "pink         1.358115e+07     5541604  \n",
       "purple       1.381345e+09  1381344997  "
      ]
     },
     "execution_count": 67,
     "metadata": {},
     "output_type": "execute_result"
    }
   ],
   "source": [
    "df.groupby('cluster').agg({'Tests/1M pop':['mean', 'median'], \n",
    "                         'Deaths/1M pop':['mean', 'median'], \n",
    "                         'Total Deaths':['mean', 'median'],\n",
    "                          'Population':['mean', 'median']})"
   ]
  },
  {
   "cell_type": "markdown",
   "metadata": {},
   "source": [
    "# It is interesting to look at the comparison of mean and median for both Tests/1M pop and Deaths/1M pop especially between dark purple and pink.  I can see that the purple has by far the most population and also the lowest test and death rate per 1M population.  Purple averages more deaths, but the population is so much higher that it is hard to compare them."
   ]
  },
  {
   "cell_type": "markdown",
   "metadata": {},
   "source": [
    "# Question 10: Usefulness in future steps of analytics pipeline\n",
    "I could see how using this method may help unlock patterns that may not be so readily apparent at first glance.  In my case, it did not really do so.  To see these in clusters could help see connections that may not be prevelant when showing only one variable alone. "
   ]
  },
  {
   "cell_type": "code",
   "execution_count": null,
   "metadata": {},
   "outputs": [],
   "source": []
  }
 ],
 "metadata": {
  "kernelspec": {
   "display_name": "Python 3",
   "language": "python",
   "name": "python3"
  },
  "language_info": {
   "codemirror_mode": {
    "name": "ipython",
    "version": 3
   },
   "file_extension": ".py",
   "mimetype": "text/x-python",
   "name": "python",
   "nbconvert_exporter": "python",
   "pygments_lexer": "ipython3",
   "version": "3.8.3"
  }
 },
 "nbformat": 4,
 "nbformat_minor": 4
}
