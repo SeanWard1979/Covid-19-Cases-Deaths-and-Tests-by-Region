{
 "cells": [
  {
   "cell_type": "markdown",
   "metadata": {},
   "source": [
    "# Question 1: Install and Import Libraries"
   ]
  },
  {
   "cell_type": "code",
   "execution_count": 1,
   "metadata": {},
   "outputs": [],
   "source": [
    "import pandas as pd\n",
    "import numpy as np\n",
    "import seaborn as sns\n",
    "import matplotlib\n",
    "import matplotlib.pyplot as plt\n",
    "import os\n",
    "import sklearn\n",
    "from sklearn.cluster import KMeans \n",
    "import pylab as pl "
   ]
  },
  {
   "cell_type": "code",
   "execution_count": 2,
   "metadata": {},
   "outputs": [],
   "source": [
    "%matplotlib inline"
   ]
  },
  {
   "cell_type": "markdown",
   "metadata": {},
   "source": [
    "# Question 2: Import and Clean Data  "
   ]
  },
  {
   "cell_type": "code",
   "execution_count": 3,
   "metadata": {},
   "outputs": [],
   "source": [
    "path = '/Users/seanward/Desktop/6- Achievement'"
   ]
  },
  {
   "cell_type": "code",
   "execution_count": 4,
   "metadata": {},
   "outputs": [],
   "source": [
    "# Importing data\n",
    "\n",
    "df = pd.read_csv(os.path.join(path, '02 Data', 'Prepared Data', 'full_grouped_edit3.csv'))"
   ]
  },
  {
   "cell_type": "code",
   "execution_count": 5,
   "metadata": {},
   "outputs": [
    {
     "data": {
      "text/plain": [
       "(3078, 16)"
      ]
     },
     "execution_count": 5,
     "metadata": {},
     "output_type": "execute_result"
    }
   ],
   "source": [
    "df.shape"
   ]
  },
  {
   "cell_type": "code",
   "execution_count": 6,
   "metadata": {},
   "outputs": [
    {
     "data": {
      "text/html": [
       "<div>\n",
       "<style scoped>\n",
       "    .dataframe tbody tr th:only-of-type {\n",
       "        vertical-align: middle;\n",
       "    }\n",
       "\n",
       "    .dataframe tbody tr th {\n",
       "        vertical-align: top;\n",
       "    }\n",
       "\n",
       "    .dataframe thead th {\n",
       "        text-align: right;\n",
       "    }\n",
       "</style>\n",
       "<table border=\"1\" class=\"dataframe\">\n",
       "  <thead>\n",
       "    <tr style=\"text-align: right;\">\n",
       "      <th></th>\n",
       "      <th>Unnamed: 0</th>\n",
       "      <th>Date</th>\n",
       "      <th>Country/Region</th>\n",
       "      <th>Confirmed</th>\n",
       "      <th>Deaths</th>\n",
       "      <th>WHO Region_x</th>\n",
       "      <th>Population</th>\n",
       "      <th>Total Cases</th>\n",
       "      <th>Total Deaths</th>\n",
       "      <th>% of Cases</th>\n",
       "      <th>% of Cases that Die</th>\n",
       "      <th>% of Population that Dies</th>\n",
       "      <th>_merge</th>\n",
       "      <th>Cases Death Rate</th>\n",
       "      <th>Country Cases Death Rate</th>\n",
       "      <th>country_flag</th>\n",
       "    </tr>\n",
       "  </thead>\n",
       "  <tbody>\n",
       "    <tr>\n",
       "      <th>0</th>\n",
       "      <td>0</td>\n",
       "      <td>1/22/20</td>\n",
       "      <td>US</td>\n",
       "      <td>1</td>\n",
       "      <td>0</td>\n",
       "      <td>Americas</td>\n",
       "      <td>331198130</td>\n",
       "      <td>5032179</td>\n",
       "      <td>162804</td>\n",
       "      <td>1.519%</td>\n",
       "      <td>3.235%</td>\n",
       "      <td>0.049%</td>\n",
       "      <td>both</td>\n",
       "      <td>0.0</td>\n",
       "      <td>0.038662</td>\n",
       "      <td>Medium Death Rate</td>\n",
       "    </tr>\n",
       "    <tr>\n",
       "      <th>1</th>\n",
       "      <td>1</td>\n",
       "      <td>1/23/20</td>\n",
       "      <td>US</td>\n",
       "      <td>1</td>\n",
       "      <td>0</td>\n",
       "      <td>Americas</td>\n",
       "      <td>331198130</td>\n",
       "      <td>5032179</td>\n",
       "      <td>162804</td>\n",
       "      <td>1.519%</td>\n",
       "      <td>3.235%</td>\n",
       "      <td>0.049%</td>\n",
       "      <td>both</td>\n",
       "      <td>0.0</td>\n",
       "      <td>0.038662</td>\n",
       "      <td>Medium Death Rate</td>\n",
       "    </tr>\n",
       "    <tr>\n",
       "      <th>2</th>\n",
       "      <td>2</td>\n",
       "      <td>1/24/20</td>\n",
       "      <td>US</td>\n",
       "      <td>2</td>\n",
       "      <td>0</td>\n",
       "      <td>Americas</td>\n",
       "      <td>331198130</td>\n",
       "      <td>5032179</td>\n",
       "      <td>162804</td>\n",
       "      <td>1.519%</td>\n",
       "      <td>3.235%</td>\n",
       "      <td>0.049%</td>\n",
       "      <td>both</td>\n",
       "      <td>0.0</td>\n",
       "      <td>0.038662</td>\n",
       "      <td>Medium Death Rate</td>\n",
       "    </tr>\n",
       "    <tr>\n",
       "      <th>3</th>\n",
       "      <td>3</td>\n",
       "      <td>1/25/20</td>\n",
       "      <td>US</td>\n",
       "      <td>2</td>\n",
       "      <td>0</td>\n",
       "      <td>Americas</td>\n",
       "      <td>331198130</td>\n",
       "      <td>5032179</td>\n",
       "      <td>162804</td>\n",
       "      <td>1.519%</td>\n",
       "      <td>3.235%</td>\n",
       "      <td>0.049%</td>\n",
       "      <td>both</td>\n",
       "      <td>0.0</td>\n",
       "      <td>0.038662</td>\n",
       "      <td>Medium Death Rate</td>\n",
       "    </tr>\n",
       "    <tr>\n",
       "      <th>4</th>\n",
       "      <td>4</td>\n",
       "      <td>1/26/20</td>\n",
       "      <td>US</td>\n",
       "      <td>5</td>\n",
       "      <td>0</td>\n",
       "      <td>Americas</td>\n",
       "      <td>331198130</td>\n",
       "      <td>5032179</td>\n",
       "      <td>162804</td>\n",
       "      <td>1.519%</td>\n",
       "      <td>3.235%</td>\n",
       "      <td>0.049%</td>\n",
       "      <td>both</td>\n",
       "      <td>0.0</td>\n",
       "      <td>0.038662</td>\n",
       "      <td>Medium Death Rate</td>\n",
       "    </tr>\n",
       "  </tbody>\n",
       "</table>\n",
       "</div>"
      ],
      "text/plain": [
       "   Unnamed: 0     Date Country/Region  Confirmed  Deaths WHO Region_x  \\\n",
       "0           0  1/22/20             US          1       0     Americas   \n",
       "1           1  1/23/20             US          1       0     Americas   \n",
       "2           2  1/24/20             US          2       0     Americas   \n",
       "3           3  1/25/20             US          2       0     Americas   \n",
       "4           4  1/26/20             US          5       0     Americas   \n",
       "\n",
       "   Population  Total Cases  Total Deaths % of Cases % of Cases that Die  \\\n",
       "0   331198130      5032179        162804     1.519%              3.235%   \n",
       "1   331198130      5032179        162804     1.519%              3.235%   \n",
       "2   331198130      5032179        162804     1.519%              3.235%   \n",
       "3   331198130      5032179        162804     1.519%              3.235%   \n",
       "4   331198130      5032179        162804     1.519%              3.235%   \n",
       "\n",
       "  % of Population that Dies _merge  Cases Death Rate  \\\n",
       "0                    0.049%   both               0.0   \n",
       "1                    0.049%   both               0.0   \n",
       "2                    0.049%   both               0.0   \n",
       "3                    0.049%   both               0.0   \n",
       "4                    0.049%   both               0.0   \n",
       "\n",
       "   Country Cases Death Rate       country_flag  \n",
       "0                  0.038662  Medium Death Rate  \n",
       "1                  0.038662  Medium Death Rate  \n",
       "2                  0.038662  Medium Death Rate  \n",
       "3                  0.038662  Medium Death Rate  \n",
       "4                  0.038662  Medium Death Rate  "
      ]
     },
     "execution_count": 6,
     "metadata": {},
     "output_type": "execute_result"
    }
   ],
   "source": [
    "df.head()"
   ]
  },
  {
   "cell_type": "code",
   "execution_count": 7,
   "metadata": {},
   "outputs": [],
   "source": [
    "# Dropping categorical columns.\n",
    "\n",
    "df = df.drop(columns = ['Unnamed: 0'])"
   ]
  },
  {
   "cell_type": "code",
   "execution_count": 8,
   "metadata": {},
   "outputs": [],
   "source": [
    "df = df.drop(columns = ['Country/Region', 'WHO Region_x'])"
   ]
  },
  {
   "cell_type": "code",
   "execution_count": 9,
   "metadata": {},
   "outputs": [],
   "source": [
    "df = df.drop(columns = ['_merge', 'Cases Death Rate', 'country_flag'])"
   ]
  },
  {
   "cell_type": "code",
   "execution_count": 10,
   "metadata": {},
   "outputs": [],
   "source": [
    "df = df.drop(columns = ['% of Cases', '% of Cases that Die', '% of Population that Dies'])"
   ]
  },
  {
   "cell_type": "code",
   "execution_count": 11,
   "metadata": {},
   "outputs": [],
   "source": [
    "df = df.drop(columns = ['Date'])"
   ]
  },
  {
   "cell_type": "code",
   "execution_count": 12,
   "metadata": {},
   "outputs": [
    {
     "data": {
      "text/html": [
       "<div>\n",
       "<style scoped>\n",
       "    .dataframe tbody tr th:only-of-type {\n",
       "        vertical-align: middle;\n",
       "    }\n",
       "\n",
       "    .dataframe tbody tr th {\n",
       "        vertical-align: top;\n",
       "    }\n",
       "\n",
       "    .dataframe thead th {\n",
       "        text-align: right;\n",
       "    }\n",
       "</style>\n",
       "<table border=\"1\" class=\"dataframe\">\n",
       "  <thead>\n",
       "    <tr style=\"text-align: right;\">\n",
       "      <th></th>\n",
       "      <th>Confirmed</th>\n",
       "      <th>Deaths</th>\n",
       "      <th>Population</th>\n",
       "      <th>Total Cases</th>\n",
       "      <th>Total Deaths</th>\n",
       "      <th>Country Cases Death Rate</th>\n",
       "    </tr>\n",
       "  </thead>\n",
       "  <tbody>\n",
       "    <tr>\n",
       "      <th>0</th>\n",
       "      <td>1</td>\n",
       "      <td>0</td>\n",
       "      <td>331198130</td>\n",
       "      <td>5032179</td>\n",
       "      <td>162804</td>\n",
       "      <td>0.038662</td>\n",
       "    </tr>\n",
       "    <tr>\n",
       "      <th>1</th>\n",
       "      <td>1</td>\n",
       "      <td>0</td>\n",
       "      <td>331198130</td>\n",
       "      <td>5032179</td>\n",
       "      <td>162804</td>\n",
       "      <td>0.038662</td>\n",
       "    </tr>\n",
       "    <tr>\n",
       "      <th>2</th>\n",
       "      <td>2</td>\n",
       "      <td>0</td>\n",
       "      <td>331198130</td>\n",
       "      <td>5032179</td>\n",
       "      <td>162804</td>\n",
       "      <td>0.038662</td>\n",
       "    </tr>\n",
       "    <tr>\n",
       "      <th>3</th>\n",
       "      <td>2</td>\n",
       "      <td>0</td>\n",
       "      <td>331198130</td>\n",
       "      <td>5032179</td>\n",
       "      <td>162804</td>\n",
       "      <td>0.038662</td>\n",
       "    </tr>\n",
       "    <tr>\n",
       "      <th>4</th>\n",
       "      <td>5</td>\n",
       "      <td>0</td>\n",
       "      <td>331198130</td>\n",
       "      <td>5032179</td>\n",
       "      <td>162804</td>\n",
       "      <td>0.038662</td>\n",
       "    </tr>\n",
       "  </tbody>\n",
       "</table>\n",
       "</div>"
      ],
      "text/plain": [
       "   Confirmed  Deaths  Population  Total Cases  Total Deaths  \\\n",
       "0          1       0   331198130      5032179        162804   \n",
       "1          1       0   331198130      5032179        162804   \n",
       "2          2       0   331198130      5032179        162804   \n",
       "3          2       0   331198130      5032179        162804   \n",
       "4          5       0   331198130      5032179        162804   \n",
       "\n",
       "   Country Cases Death Rate  \n",
       "0                  0.038662  \n",
       "1                  0.038662  \n",
       "2                  0.038662  \n",
       "3                  0.038662  \n",
       "4                  0.038662  "
      ]
     },
     "execution_count": 12,
     "metadata": {},
     "output_type": "execute_result"
    }
   ],
   "source": [
    "df.head()"
   ]
  },
  {
   "cell_type": "markdown",
   "metadata": {},
   "source": [
    "# Question 3: Elbow Technique"
   ]
  },
  {
   "cell_type": "code",
   "execution_count": 13,
   "metadata": {},
   "outputs": [],
   "source": [
    "num_cl = range(1, 10) \n",
    "kmeans = [KMeans(n_clusters=i) for i in num_cl] "
   ]
  },
  {
   "cell_type": "code",
   "execution_count": 14,
   "metadata": {},
   "outputs": [
    {
     "data": {
      "text/plain": [
       "[-2.8398022104795998e+20,\n",
       " -1.903292607553855e+19,\n",
       " -4.995997044572989e+18,\n",
       " -1.7536446564326996e+18,\n",
       " -8.677697566672876e+17,\n",
       " -3.180217527734446e+17,\n",
       " -1.9593133096590653e+17,\n",
       " -1.2689947811400597e+17,\n",
       " -6.010244393629634e+16]"
      ]
     },
     "execution_count": 14,
     "metadata": {},
     "output_type": "execute_result"
    }
   ],
   "source": [
    "score = [kmeans[i].fit(df).score(df) for i in range(len(kmeans))]\n",
    "\n",
    "score"
   ]
  },
  {
   "cell_type": "code",
   "execution_count": 15,
   "metadata": {},
   "outputs": [
    {
     "data": {
      "image/png": "[encoded data removed]",
      "text/plain": [
       "<Figure size 432x288 with 1 Axes>"
      ]
     },
     "metadata": {
      "needs_background": "light"
     },
     "output_type": "display_data"
    }
   ],
   "source": [
    "# Plot the elbow curve using PyLab.\n",
    "\n",
    "pl.plot(num_cl,score)\n",
    "pl.xlabel('Number of Clusters')\n",
    "pl.ylabel('Score')\n",
    "pl.title('Elbow Curve')\n",
    "pl.show()"
   ]
  },
  {
   "cell_type": "markdown",
   "metadata": {},
   "source": [
    "# Question 4: # of clusters to use:\n",
    "The line seems to straighten out at 3 so I would say that the optimal count\n",
    "for my clusters would be 3.\n"
   ]
  },
  {
   "cell_type": "markdown",
   "metadata": {},
   "source": [
    "# Question 5 k-means algorithm"
   ]
  },
  {
   "cell_type": "code",
   "execution_count": 16,
   "metadata": {},
   "outputs": [],
   "source": [
    "# Create the k-means object.\n",
    "\n",
    "kmeans = KMeans(n_clusters = 3, n_jobs = -1) "
   ]
  },
  {
   "cell_type": "code",
   "execution_count": 17,
   "metadata": {},
   "outputs": [
    {
     "name": "stderr",
     "output_type": "stream",
     "text": [
      "/Users/smw/opt/anaconda3/lib/python3.8/site-packages/sklearn/cluster/_kmeans.py:973: FutureWarning: 'n_jobs' was deprecated in version 0.23 and will be removed in 0.25.\n",
      "  warnings.warn(\"'n_jobs' was deprecated in version 0.23 and will be\"\n"
     ]
    },
    {
     "data": {
      "text/plain": [
       "KMeans(n_clusters=3, n_jobs=-1)"
      ]
     },
     "execution_count": 17,
     "metadata": {},
     "output_type": "execute_result"
    }
   ],
   "source": [
    "# Fit the k-means object to the data.\n",
    "\n",
    "kmeans.fit(df)"
   ]
  },
  {
   "cell_type": "markdown",
   "metadata": {},
   "source": [
    "# Question 6: New column"
   ]
  },
  {
   "cell_type": "code",
   "execution_count": 18,
   "metadata": {},
   "outputs": [
    {
     "name": "stderr",
     "output_type": "stream",
     "text": [
      "/Users/smw/opt/anaconda3/lib/python3.8/site-packages/sklearn/cluster/_kmeans.py:973: FutureWarning: 'n_jobs' was deprecated in version 0.23 and will be removed in 0.25.\n",
      "  warnings.warn(\"'n_jobs' was deprecated in version 0.23 and will be\"\n"
     ]
    }
   ],
   "source": [
    "df['clusters'] = kmeans.fit_predict(df)"
   ]
  },
  {
   "cell_type": "code",
   "execution_count": 19,
   "metadata": {},
   "outputs": [
    {
     "data": {
      "text/html": [
       "<div>\n",
       "<style scoped>\n",
       "    .dataframe tbody tr th:only-of-type {\n",
       "        vertical-align: middle;\n",
       "    }\n",
       "\n",
       "    .dataframe tbody tr th {\n",
       "        vertical-align: top;\n",
       "    }\n",
       "\n",
       "    .dataframe thead th {\n",
       "        text-align: right;\n",
       "    }\n",
       "</style>\n",
       "<table border=\"1\" class=\"dataframe\">\n",
       "  <thead>\n",
       "    <tr style=\"text-align: right;\">\n",
       "      <th></th>\n",
       "      <th>Confirmed</th>\n",
       "      <th>Deaths</th>\n",
       "      <th>Population</th>\n",
       "      <th>Total Cases</th>\n",
       "      <th>Total Deaths</th>\n",
       "      <th>Country Cases Death Rate</th>\n",
       "      <th>clusters</th>\n",
       "    </tr>\n",
       "  </thead>\n",
       "  <tbody>\n",
       "    <tr>\n",
       "      <th>0</th>\n",
       "      <td>1</td>\n",
       "      <td>0</td>\n",
       "      <td>331198130</td>\n",
       "      <td>5032179</td>\n",
       "      <td>162804</td>\n",
       "      <td>0.038662</td>\n",
       "      <td>2</td>\n",
       "    </tr>\n",
       "    <tr>\n",
       "      <th>1</th>\n",
       "      <td>1</td>\n",
       "      <td>0</td>\n",
       "      <td>331198130</td>\n",
       "      <td>5032179</td>\n",
       "      <td>162804</td>\n",
       "      <td>0.038662</td>\n",
       "      <td>2</td>\n",
       "    </tr>\n",
       "    <tr>\n",
       "      <th>2</th>\n",
       "      <td>2</td>\n",
       "      <td>0</td>\n",
       "      <td>331198130</td>\n",
       "      <td>5032179</td>\n",
       "      <td>162804</td>\n",
       "      <td>0.038662</td>\n",
       "      <td>2</td>\n",
       "    </tr>\n",
       "    <tr>\n",
       "      <th>3</th>\n",
       "      <td>2</td>\n",
       "      <td>0</td>\n",
       "      <td>331198130</td>\n",
       "      <td>5032179</td>\n",
       "      <td>162804</td>\n",
       "      <td>0.038662</td>\n",
       "      <td>2</td>\n",
       "    </tr>\n",
       "    <tr>\n",
       "      <th>4</th>\n",
       "      <td>5</td>\n",
       "      <td>0</td>\n",
       "      <td>331198130</td>\n",
       "      <td>5032179</td>\n",
       "      <td>162804</td>\n",
       "      <td>0.038662</td>\n",
       "      <td>2</td>\n",
       "    </tr>\n",
       "  </tbody>\n",
       "</table>\n",
       "</div>"
      ],
      "text/plain": [
       "   Confirmed  Deaths  Population  Total Cases  Total Deaths  \\\n",
       "0          1       0   331198130      5032179        162804   \n",
       "1          1       0   331198130      5032179        162804   \n",
       "2          2       0   331198130      5032179        162804   \n",
       "3          2       0   331198130      5032179        162804   \n",
       "4          5       0   331198130      5032179        162804   \n",
       "\n",
       "   Country Cases Death Rate  clusters  \n",
       "0                  0.038662         2  \n",
       "1                  0.038662         2  \n",
       "2                  0.038662         2  \n",
       "3                  0.038662         2  \n",
       "4                  0.038662         2  "
      ]
     },
     "execution_count": 19,
     "metadata": {},
     "output_type": "execute_result"
    }
   ],
   "source": [
    "df.head()"
   ]
  },
  {
   "cell_type": "code",
   "execution_count": 20,
   "metadata": {},
   "outputs": [
    {
     "data": {
      "text/plain": [
       "0    2299\n",
       "2     607\n",
       "1     172\n",
       "Name: clusters, dtype: int64"
      ]
     },
     "execution_count": 20,
     "metadata": {},
     "output_type": "execute_result"
    }
   ],
   "source": [
    "df['clusters'].value_counts()"
   ]
  },
  {
   "cell_type": "markdown",
   "metadata": {},
   "source": [
    "# Question 7: Create visualizations"
   ]
  },
  {
   "cell_type": "code",
   "execution_count": 26,
   "metadata": {},
   "outputs": [
    {
     "data": {
      "image/png": "[encoded data removed]",
      "text/plain": [
       "<Figure size 864x576 with 1 Axes>"
      ]
     },
     "metadata": {
      "needs_background": "light"
     },
     "output_type": "display_data"
    }
   ],
   "source": [
    "# Plot the clusters for the \"Price per Unit\" and \"D.metro\" variables.\n",
    "\n",
    "plt.figure(figsize=(12,8))\n",
    "ax = sns.scatterplot(x=df['Confirmed'], y=df['Deaths'], hue=kmeans.labels_, s=100) \n",
    "# Here, you're subsetting `X` for the x and y arguments to avoid using their labels. \n",
    "# `hue` takes the value of the attribute `kmeans.labels_`, which is the result of running the k-means algorithm.\n",
    "# `s` represents the size of the points you want to see in the plot.\n",
    "\n",
    "ax.grid(False) # This removes the grid from the background.\n",
    "plt.xlabel('Confirmed') # Label x-axis.\n",
    "plt.ylabel('Deaths') # Label y-axis.\n",
    "plt.show()"
   ]
  },
  {
   "cell_type": "code",
   "execution_count": 30,
   "metadata": {},
   "outputs": [
    {
     "data": {
      "image/png": "[encoded data removed]",
      "text/plain": [
       "<Figure size 864x576 with 1 Axes>"
      ]
     },
     "metadata": {
      "needs_background": "light"
     },
     "output_type": "display_data"
    }
   ],
   "source": [
    "# Plot the clusters for the \"Population\" and \"Deaths\" variables.\n",
    "\n",
    "plt.figure(figsize=(12,8))\n",
    "ax = sns.scatterplot(x=df['Country Cases Death Rate'], y=df['Population'], hue=kmeans.labels_, s=100)\n",
    "\n",
    "ax.grid(False) \n",
    "plt.xlabel('Country Cases Death Rate') \n",
    "plt.ylabel('Population') \n",
    "plt.show()"
   ]
  },
  {
   "cell_type": "markdown",
   "metadata": {},
   "source": [
    "# Question 8: Discuss how and why the clusters make sense:\n",
    "I don't think the clusters make all that much sense.  I can see that nearly all of the higher confirmed cases are with the dark purple color and that most of the much lower\n",
    "case count is with the pink color.  Since there are only 20 countries being shown, the confirmed and death count is not really best with the clusters.  It may help if I showed\n",
    "all of the countries on this chart so that the clusters may make more sense."
   ]
  },
  {
   "cell_type": "code",
   "execution_count": 31,
   "metadata": {},
   "outputs": [],
   "source": [
    "df.loc[df['clusters'] == 2, 'cluster'] = 'dark purple'\n",
    "df.loc[df['clusters'] == 1, 'cluster'] = 'purple'\n",
    "df.loc[df['clusters'] == 0, 'cluster'] = 'pink'"
   ]
  },
  {
   "cell_type": "markdown",
   "metadata": {},
   "source": [
    "# Question 9: Descriptive statistics."
   ]
  },
  {
   "cell_type": "code",
   "execution_count": 33,
   "metadata": {},
   "outputs": [
    {
     "data": {
      "text/html": [
       "<div>\n",
       "<style scoped>\n",
       "    .dataframe tbody tr th:only-of-type {\n",
       "        vertical-align: middle;\n",
       "    }\n",
       "\n",
       "    .dataframe tbody tr th {\n",
       "        vertical-align: top;\n",
       "    }\n",
       "\n",
       "    .dataframe thead tr th {\n",
       "        text-align: left;\n",
       "    }\n",
       "\n",
       "    .dataframe thead tr:last-of-type th {\n",
       "        text-align: right;\n",
       "    }\n",
       "</style>\n",
       "<table border=\"1\" class=\"dataframe\">\n",
       "  <thead>\n",
       "    <tr>\n",
       "      <th></th>\n",
       "      <th colspan=\"2\" halign=\"left\">Confirmed</th>\n",
       "      <th colspan=\"2\" halign=\"left\">Deaths</th>\n",
       "    </tr>\n",
       "    <tr>\n",
       "      <th></th>\n",
       "      <th>mean</th>\n",
       "      <th>median</th>\n",
       "      <th>mean</th>\n",
       "      <th>median</th>\n",
       "    </tr>\n",
       "    <tr>\n",
       "      <th>cluster</th>\n",
       "      <th></th>\n",
       "      <th></th>\n",
       "      <th></th>\n",
       "      <th></th>\n",
       "    </tr>\n",
       "  </thead>\n",
       "  <tbody>\n",
       "    <tr>\n",
       "      <th>dark purple</th>\n",
       "      <td>466115.711697</td>\n",
       "      <td>59324.0</td>\n",
       "      <td>22259.258649</td>\n",
       "      <td>1262.0</td>\n",
       "    </tr>\n",
       "    <tr>\n",
       "      <th>pink</th>\n",
       "      <td>110707.418008</td>\n",
       "      <td>71686.0</td>\n",
       "      <td>7805.603306</td>\n",
       "      <td>1774.0</td>\n",
       "    </tr>\n",
       "    <tr>\n",
       "      <th>purple</th>\n",
       "      <td>176568.569767</td>\n",
       "      <td>25406.5</td>\n",
       "      <td>5028.825581</td>\n",
       "      <td>802.5</td>\n",
       "    </tr>\n",
       "  </tbody>\n",
       "</table>\n",
       "</div>"
      ],
      "text/plain": [
       "                 Confirmed                 Deaths        \n",
       "                      mean   median          mean  median\n",
       "cluster                                                  \n",
       "dark purple  466115.711697  59324.0  22259.258649  1262.0\n",
       "pink         110707.418008  71686.0   7805.603306  1774.0\n",
       "purple       176568.569767  25406.5   5028.825581   802.5"
      ]
     },
     "execution_count": 33,
     "metadata": {},
     "output_type": "execute_result"
    }
   ],
   "source": [
    "df.groupby('cluster').agg({'Confirmed':['mean', 'median'], \n",
    "                         'Deaths':['mean', 'median']})"
   ]
  },
  {
   "cell_type": "code",
   "execution_count": 32,
   "metadata": {},
   "outputs": [
    {
     "data": {
      "text/html": [
       "<div>\n",
       "<style scoped>\n",
       "    .dataframe tbody tr th:only-of-type {\n",
       "        vertical-align: middle;\n",
       "    }\n",
       "\n",
       "    .dataframe tbody tr th {\n",
       "        vertical-align: top;\n",
       "    }\n",
       "\n",
       "    .dataframe thead tr th {\n",
       "        text-align: left;\n",
       "    }\n",
       "\n",
       "    .dataframe thead tr:last-of-type th {\n",
       "        text-align: right;\n",
       "    }\n",
       "</style>\n",
       "<table border=\"1\" class=\"dataframe\">\n",
       "  <thead>\n",
       "    <tr>\n",
       "      <th></th>\n",
       "      <th colspan=\"2\" halign=\"left\">Confirmed</th>\n",
       "      <th colspan=\"2\" halign=\"left\">Deaths</th>\n",
       "      <th colspan=\"2\" halign=\"left\">Country Cases Death Rate</th>\n",
       "      <th colspan=\"2\" halign=\"left\">Population</th>\n",
       "    </tr>\n",
       "    <tr>\n",
       "      <th></th>\n",
       "      <th>mean</th>\n",
       "      <th>median</th>\n",
       "      <th>mean</th>\n",
       "      <th>median</th>\n",
       "      <th>mean</th>\n",
       "      <th>median</th>\n",
       "      <th>mean</th>\n",
       "      <th>median</th>\n",
       "    </tr>\n",
       "    <tr>\n",
       "      <th>cluster</th>\n",
       "      <th></th>\n",
       "      <th></th>\n",
       "      <th></th>\n",
       "      <th></th>\n",
       "      <th></th>\n",
       "      <th></th>\n",
       "      <th></th>\n",
       "      <th></th>\n",
       "    </tr>\n",
       "  </thead>\n",
       "  <tbody>\n",
       "    <tr>\n",
       "      <th>dark purple</th>\n",
       "      <td>466115.711697</td>\n",
       "      <td>59324.0</td>\n",
       "      <td>22259.258649</td>\n",
       "      <td>1262.0</td>\n",
       "      <td>0.032470</td>\n",
       "      <td>0.038662</td>\n",
       "      <td>2.392678e+08</td>\n",
       "      <td>221295851</td>\n",
       "    </tr>\n",
       "    <tr>\n",
       "      <th>pink</th>\n",
       "      <td>110707.418008</td>\n",
       "      <td>71686.0</td>\n",
       "      <td>7805.603306</td>\n",
       "      <td>1774.0</td>\n",
       "      <td>0.049423</td>\n",
       "      <td>0.029964</td>\n",
       "      <td>6.830931e+07</td>\n",
       "      <td>60452568</td>\n",
       "    </tr>\n",
       "    <tr>\n",
       "      <th>purple</th>\n",
       "      <td>176568.569767</td>\n",
       "      <td>25406.5</td>\n",
       "      <td>5028.825581</td>\n",
       "      <td>802.5</td>\n",
       "      <td>0.021860</td>\n",
       "      <td>0.021860</td>\n",
       "      <td>1.381345e+09</td>\n",
       "      <td>1381344997</td>\n",
       "    </tr>\n",
       "  </tbody>\n",
       "</table>\n",
       "</div>"
      ],
      "text/plain": [
       "                 Confirmed                 Deaths          \\\n",
       "                      mean   median          mean  median   \n",
       "cluster                                                     \n",
       "dark purple  466115.711697  59324.0  22259.258649  1262.0   \n",
       "pink         110707.418008  71686.0   7805.603306  1774.0   \n",
       "purple       176568.569767  25406.5   5028.825581   802.5   \n",
       "\n",
       "            Country Cases Death Rate              Population              \n",
       "                                mean    median          mean      median  \n",
       "cluster                                                                   \n",
       "dark purple                 0.032470  0.038662  2.392678e+08   221295851  \n",
       "pink                        0.049423  0.029964  6.830931e+07    60452568  \n",
       "purple                      0.021860  0.021860  1.381345e+09  1381344997  "
      ]
     },
     "execution_count": 32,
     "metadata": {},
     "output_type": "execute_result"
    }
   ],
   "source": [
    "df.groupby('cluster').agg({'Confirmed':['mean', 'median'], \n",
    "                         'Deaths':['mean', 'median'], \n",
    "                         'Country Cases Death Rate':['mean', 'median'],\n",
    "                          'Population':['mean', 'median']})"
   ]
  },
  {
   "cell_type": "markdown",
   "metadata": {},
   "source": [
    "It is interesting to look at the comparison of mean and median for both Confirmed and Deaths especially between dark purple and pink.  The Confirmed mean for dark purple is far higher than pink, but the median is actually higher for pink.  It is the same case for Deaths as well.  This shows that there is a far wider range of numbers for dark purple for both Confirmed and Deaths, and pink has a much smaller range of numbers.  Purple sits somewhere in between for both.  "
   ]
  },
  {
   "cell_type": "markdown",
   "metadata": {},
   "source": [
    "# Question 10: Usefulness in future steps of analytics pipeline\n",
    "I could see how using this method may help unlock patterns that may not be so readily apparent at first glance.  In my case, it did not really do so.  To see these in clusters could help see connections that may not be prevelant when showing only one variable alone. "
   ]
  },
  {
   "cell_type": "code",
   "execution_count": null,
   "metadata": {},
   "outputs": [],
   "source": []
  }
 ],
 "metadata": {
  "kernelspec": {
   "display_name": "Python 3",
   "language": "python",
   "name": "python3"
  },
  "language_info": {
   "codemirror_mode": {
    "name": "ipython",
    "version": 3
   },
   "file_extension": ".py",
   "mimetype": "text/x-python",
   "name": "python",
   "nbconvert_exporter": "python",
   "pygments_lexer": "ipython3",
   "version": "3.8.3"
  }
 },
 "nbformat": 4,
 "nbformat_minor": 4
}
