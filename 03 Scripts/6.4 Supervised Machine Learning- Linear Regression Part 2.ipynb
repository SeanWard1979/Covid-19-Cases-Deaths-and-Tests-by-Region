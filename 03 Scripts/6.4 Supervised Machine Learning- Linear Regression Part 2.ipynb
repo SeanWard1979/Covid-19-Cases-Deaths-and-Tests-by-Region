{
 "cells": [
  {
   "cell_type": "markdown",
   "metadata": {},
   "source": [
    "# 6.4 Machine Learning"
   ]
  },
  {
   "cell_type": "markdown",
   "metadata": {},
   "source": [
    "# Question 2: Importing libraries"
   ]
  },
  {
   "cell_type": "code",
   "execution_count": 6,
   "metadata": {},
   "outputs": [],
   "source": [
    "import pandas as pd\n",
    "import numpy as np\n",
    "import seaborn as sns\n",
    "import matplotlib\n",
    "import matplotlib.pyplot as plt\n",
    "import os\n",
    "import sklearn\n",
    "from sklearn.model_selection import train_test_split \n",
    "from sklearn.linear_model import LinearRegression\n",
    "from sklearn.metrics import mean_squared_error, r2_score"
   ]
  },
  {
   "cell_type": "code",
   "execution_count": 7,
   "metadata": {},
   "outputs": [],
   "source": [
    "# Ensuring that the graphs are displayed within the notebook without the need to \"call\" them specifically.\n",
    "\n",
    "%matplotlib inline"
   ]
  },
  {
   "cell_type": "code",
   "execution_count": 8,
   "metadata": {},
   "outputs": [],
   "source": [
    "path = '/Users/seanward/Desktop/6- Achievement'"
   ]
  },
  {
   "cell_type": "code",
   "execution_count": 9,
   "metadata": {},
   "outputs": [],
   "source": [
    "# Import the recipes data.\n",
    "\n",
    "df = pd.read_csv(os.path.join(path, '02 Data', 'Prepared Data', 'worldometer_data_edited2.csv'))"
   ]
  },
  {
   "cell_type": "markdown",
   "metadata": {},
   "source": [
    "## Question 3: Data cleaning"
   ]
  },
  {
   "cell_type": "code",
   "execution_count": 10,
   "metadata": {},
   "outputs": [
    {
     "data": {
      "text/plain": [
       "Index(['Unnamed: 0', 'Country/Region', 'Population', 'Total Cases',\n",
       "       'Total Deaths', '% of Population With Covid',\n",
       "       '% of Cases that Result in Death', 'Tot Cases/1M pop', 'Deaths/1M pop',\n",
       "       'Total Tests', 'Tests/1M pop', 'WHO Region', 'Test Rate',\n",
       "       'Country Test Rate', 'country_flag'],\n",
       "      dtype='object')"
      ]
     },
     "execution_count": 10,
     "metadata": {},
     "output_type": "execute_result"
    }
   ],
   "source": [
    "df.columns"
   ]
  },
  {
   "cell_type": "code",
   "execution_count": 11,
   "metadata": {},
   "outputs": [
    {
     "data": {
      "text/html": [
       "<div>\n",
       "<style scoped>\n",
       "    .dataframe tbody tr th:only-of-type {\n",
       "        vertical-align: middle;\n",
       "    }\n",
       "\n",
       "    .dataframe tbody tr th {\n",
       "        vertical-align: top;\n",
       "    }\n",
       "\n",
       "    .dataframe thead th {\n",
       "        text-align: right;\n",
       "    }\n",
       "</style>\n",
       "<table border=\"1\" class=\"dataframe\">\n",
       "  <thead>\n",
       "    <tr style=\"text-align: right;\">\n",
       "      <th></th>\n",
       "      <th>Unnamed: 0</th>\n",
       "      <th>Country/Region</th>\n",
       "      <th>Population</th>\n",
       "      <th>Total Cases</th>\n",
       "      <th>Total Deaths</th>\n",
       "      <th>% of Population With Covid</th>\n",
       "      <th>% of Cases that Result in Death</th>\n",
       "      <th>Tot Cases/1M pop</th>\n",
       "      <th>Deaths/1M pop</th>\n",
       "      <th>Total Tests</th>\n",
       "      <th>Tests/1M pop</th>\n",
       "      <th>WHO Region</th>\n",
       "      <th>Test Rate</th>\n",
       "      <th>Country Test Rate</th>\n",
       "      <th>country_flag</th>\n",
       "    </tr>\n",
       "  </thead>\n",
       "  <tbody>\n",
       "    <tr>\n",
       "      <th>0</th>\n",
       "      <td>0</td>\n",
       "      <td>USA</td>\n",
       "      <td>331198130</td>\n",
       "      <td>5032179</td>\n",
       "      <td>162804.0</td>\n",
       "      <td>1.519%</td>\n",
       "      <td>3.235%</td>\n",
       "      <td>15194</td>\n",
       "      <td>492.0</td>\n",
       "      <td>63139605.0</td>\n",
       "      <td>190640.0</td>\n",
       "      <td>Americas</td>\n",
       "      <td>0.190640</td>\n",
       "      <td>0.190640</td>\n",
       "      <td>High Test Rate</td>\n",
       "    </tr>\n",
       "    <tr>\n",
       "      <th>1</th>\n",
       "      <td>1</td>\n",
       "      <td>Brazil</td>\n",
       "      <td>212710692</td>\n",
       "      <td>2917562</td>\n",
       "      <td>98644.0</td>\n",
       "      <td>1.372%</td>\n",
       "      <td>3.381%</td>\n",
       "      <td>13716</td>\n",
       "      <td>464.0</td>\n",
       "      <td>13206188.0</td>\n",
       "      <td>62085.0</td>\n",
       "      <td>Americas</td>\n",
       "      <td>0.062085</td>\n",
       "      <td>0.062085</td>\n",
       "      <td>Medium Test Rate</td>\n",
       "    </tr>\n",
       "    <tr>\n",
       "      <th>2</th>\n",
       "      <td>2</td>\n",
       "      <td>India</td>\n",
       "      <td>1381344997</td>\n",
       "      <td>2025409</td>\n",
       "      <td>41638.0</td>\n",
       "      <td>0.147%</td>\n",
       "      <td>2.056%</td>\n",
       "      <td>1466</td>\n",
       "      <td>30.0</td>\n",
       "      <td>22149351.0</td>\n",
       "      <td>16035.0</td>\n",
       "      <td>South-EastAsia</td>\n",
       "      <td>0.016035</td>\n",
       "      <td>0.016035</td>\n",
       "      <td>Lower Test Rate</td>\n",
       "    </tr>\n",
       "    <tr>\n",
       "      <th>3</th>\n",
       "      <td>3</td>\n",
       "      <td>Russia</td>\n",
       "      <td>145940924</td>\n",
       "      <td>871894</td>\n",
       "      <td>14606.0</td>\n",
       "      <td>0.597%</td>\n",
       "      <td>1.675%</td>\n",
       "      <td>5974</td>\n",
       "      <td>100.0</td>\n",
       "      <td>29716907.0</td>\n",
       "      <td>203623.0</td>\n",
       "      <td>Europe</td>\n",
       "      <td>0.203623</td>\n",
       "      <td>0.203623</td>\n",
       "      <td>High Test Rate</td>\n",
       "    </tr>\n",
       "    <tr>\n",
       "      <th>4</th>\n",
       "      <td>4</td>\n",
       "      <td>South Africa</td>\n",
       "      <td>59381566</td>\n",
       "      <td>538184</td>\n",
       "      <td>9604.0</td>\n",
       "      <td>0.906%</td>\n",
       "      <td>1.785%</td>\n",
       "      <td>9063</td>\n",
       "      <td>162.0</td>\n",
       "      <td>3149807.0</td>\n",
       "      <td>53044.0</td>\n",
       "      <td>Africa</td>\n",
       "      <td>0.053044</td>\n",
       "      <td>0.053044</td>\n",
       "      <td>Medium Test Rate</td>\n",
       "    </tr>\n",
       "    <tr>\n",
       "      <th>5</th>\n",
       "      <td>5</td>\n",
       "      <td>Mexico</td>\n",
       "      <td>129066160</td>\n",
       "      <td>462690</td>\n",
       "      <td>50517.0</td>\n",
       "      <td>0.358%</td>\n",
       "      <td>10.918%</td>\n",
       "      <td>3585</td>\n",
       "      <td>391.0</td>\n",
       "      <td>1056915.0</td>\n",
       "      <td>8189.0</td>\n",
       "      <td>Americas</td>\n",
       "      <td>0.008189</td>\n",
       "      <td>0.008189</td>\n",
       "      <td>Lower Test Rate</td>\n",
       "    </tr>\n",
       "    <tr>\n",
       "      <th>6</th>\n",
       "      <td>6</td>\n",
       "      <td>Peru</td>\n",
       "      <td>33016319</td>\n",
       "      <td>455409</td>\n",
       "      <td>20424.0</td>\n",
       "      <td>1.379%</td>\n",
       "      <td>4.485%</td>\n",
       "      <td>13793</td>\n",
       "      <td>619.0</td>\n",
       "      <td>2493429.0</td>\n",
       "      <td>75521.0</td>\n",
       "      <td>Americas</td>\n",
       "      <td>0.075521</td>\n",
       "      <td>0.075521</td>\n",
       "      <td>Medium Test Rate</td>\n",
       "    </tr>\n",
       "    <tr>\n",
       "      <th>7</th>\n",
       "      <td>7</td>\n",
       "      <td>Chile</td>\n",
       "      <td>19132514</td>\n",
       "      <td>366671</td>\n",
       "      <td>9889.0</td>\n",
       "      <td>1.916%</td>\n",
       "      <td>2.697%</td>\n",
       "      <td>19165</td>\n",
       "      <td>517.0</td>\n",
       "      <td>1760615.0</td>\n",
       "      <td>92022.0</td>\n",
       "      <td>Americas</td>\n",
       "      <td>0.092022</td>\n",
       "      <td>0.092022</td>\n",
       "      <td>Medium Test Rate</td>\n",
       "    </tr>\n",
       "    <tr>\n",
       "      <th>8</th>\n",
       "      <td>8</td>\n",
       "      <td>Colombia</td>\n",
       "      <td>50936262</td>\n",
       "      <td>357710</td>\n",
       "      <td>11939.0</td>\n",
       "      <td>0.702%</td>\n",
       "      <td>3.338%</td>\n",
       "      <td>7023</td>\n",
       "      <td>234.0</td>\n",
       "      <td>1801835.0</td>\n",
       "      <td>35374.0</td>\n",
       "      <td>Americas</td>\n",
       "      <td>0.035374</td>\n",
       "      <td>0.035374</td>\n",
       "      <td>Medium Test Rate</td>\n",
       "    </tr>\n",
       "    <tr>\n",
       "      <th>9</th>\n",
       "      <td>9</td>\n",
       "      <td>Spain</td>\n",
       "      <td>46756648</td>\n",
       "      <td>354530</td>\n",
       "      <td>28500.0</td>\n",
       "      <td>0.758%</td>\n",
       "      <td>8.039%</td>\n",
       "      <td>7582</td>\n",
       "      <td>610.0</td>\n",
       "      <td>7064329.0</td>\n",
       "      <td>151087.0</td>\n",
       "      <td>Europe</td>\n",
       "      <td>0.151087</td>\n",
       "      <td>0.151087</td>\n",
       "      <td>High Test Rate</td>\n",
       "    </tr>\n",
       "    <tr>\n",
       "      <th>10</th>\n",
       "      <td>10</td>\n",
       "      <td>Iran</td>\n",
       "      <td>84097623</td>\n",
       "      <td>320117</td>\n",
       "      <td>17976.0</td>\n",
       "      <td>0.381%</td>\n",
       "      <td>5.615%</td>\n",
       "      <td>3806</td>\n",
       "      <td>214.0</td>\n",
       "      <td>2612763.0</td>\n",
       "      <td>31068.0</td>\n",
       "      <td>MiddleEast</td>\n",
       "      <td>0.031068</td>\n",
       "      <td>0.031068</td>\n",
       "      <td>Medium Test Rate</td>\n",
       "    </tr>\n",
       "    <tr>\n",
       "      <th>11</th>\n",
       "      <td>11</td>\n",
       "      <td>UK</td>\n",
       "      <td>67922029</td>\n",
       "      <td>308134</td>\n",
       "      <td>46413.0</td>\n",
       "      <td>0.454%</td>\n",
       "      <td>15.063%</td>\n",
       "      <td>4537</td>\n",
       "      <td>683.0</td>\n",
       "      <td>17515234.0</td>\n",
       "      <td>257873.0</td>\n",
       "      <td>Europe</td>\n",
       "      <td>0.257873</td>\n",
       "      <td>0.257873</td>\n",
       "      <td>High Test Rate</td>\n",
       "    </tr>\n",
       "    <tr>\n",
       "      <th>12</th>\n",
       "      <td>12</td>\n",
       "      <td>Saudi Arabia</td>\n",
       "      <td>34865919</td>\n",
       "      <td>284226</td>\n",
       "      <td>3055.0</td>\n",
       "      <td>0.815%</td>\n",
       "      <td>1.075%</td>\n",
       "      <td>8152</td>\n",
       "      <td>88.0</td>\n",
       "      <td>3635705.0</td>\n",
       "      <td>104277.0</td>\n",
       "      <td>MiddleEast</td>\n",
       "      <td>0.104277</td>\n",
       "      <td>0.104277</td>\n",
       "      <td>High Test Rate</td>\n",
       "    </tr>\n",
       "    <tr>\n",
       "      <th>13</th>\n",
       "      <td>13</td>\n",
       "      <td>Pakistan</td>\n",
       "      <td>221295851</td>\n",
       "      <td>281863</td>\n",
       "      <td>6035.0</td>\n",
       "      <td>0.127%</td>\n",
       "      <td>2.141%</td>\n",
       "      <td>1274</td>\n",
       "      <td>27.0</td>\n",
       "      <td>2058872.0</td>\n",
       "      <td>9304.0</td>\n",
       "      <td>MiddleEast</td>\n",
       "      <td>0.009304</td>\n",
       "      <td>0.009304</td>\n",
       "      <td>Lower Test Rate</td>\n",
       "    </tr>\n",
       "    <tr>\n",
       "      <th>14</th>\n",
       "      <td>14</td>\n",
       "      <td>Bangladesh</td>\n",
       "      <td>164851401</td>\n",
       "      <td>249651</td>\n",
       "      <td>3306.0</td>\n",
       "      <td>0.151%</td>\n",
       "      <td>1.324%</td>\n",
       "      <td>1514</td>\n",
       "      <td>20.0</td>\n",
       "      <td>1225124.0</td>\n",
       "      <td>7432.0</td>\n",
       "      <td>South-EastAsia</td>\n",
       "      <td>0.007432</td>\n",
       "      <td>0.007432</td>\n",
       "      <td>Lower Test Rate</td>\n",
       "    </tr>\n",
       "    <tr>\n",
       "      <th>15</th>\n",
       "      <td>15</td>\n",
       "      <td>Italy</td>\n",
       "      <td>60452568</td>\n",
       "      <td>249204</td>\n",
       "      <td>35187.0</td>\n",
       "      <td>0.412%</td>\n",
       "      <td>14.120%</td>\n",
       "      <td>4122</td>\n",
       "      <td>582.0</td>\n",
       "      <td>7099713.0</td>\n",
       "      <td>117443.0</td>\n",
       "      <td>Europe</td>\n",
       "      <td>0.117443</td>\n",
       "      <td>0.117443</td>\n",
       "      <td>High Test Rate</td>\n",
       "    </tr>\n",
       "    <tr>\n",
       "      <th>16</th>\n",
       "      <td>16</td>\n",
       "      <td>Turkey</td>\n",
       "      <td>84428331</td>\n",
       "      <td>237265</td>\n",
       "      <td>5798.0</td>\n",
       "      <td>0.281%</td>\n",
       "      <td>2.444%</td>\n",
       "      <td>2810</td>\n",
       "      <td>69.0</td>\n",
       "      <td>5081802.0</td>\n",
       "      <td>60191.0</td>\n",
       "      <td>Europe</td>\n",
       "      <td>0.060191</td>\n",
       "      <td>0.060191</td>\n",
       "      <td>Medium Test Rate</td>\n",
       "    </tr>\n",
       "    <tr>\n",
       "      <th>17</th>\n",
       "      <td>17</td>\n",
       "      <td>Argentina</td>\n",
       "      <td>45236884</td>\n",
       "      <td>228195</td>\n",
       "      <td>4251.0</td>\n",
       "      <td>0.504%</td>\n",
       "      <td>1.863%</td>\n",
       "      <td>5044</td>\n",
       "      <td>94.0</td>\n",
       "      <td>794544.0</td>\n",
       "      <td>17564.0</td>\n",
       "      <td>Americas</td>\n",
       "      <td>0.017564</td>\n",
       "      <td>0.017564</td>\n",
       "      <td>Lower Test Rate</td>\n",
       "    </tr>\n",
       "    <tr>\n",
       "      <th>18</th>\n",
       "      <td>18</td>\n",
       "      <td>Germany</td>\n",
       "      <td>83811260</td>\n",
       "      <td>215210</td>\n",
       "      <td>9252.0</td>\n",
       "      <td>0.257%</td>\n",
       "      <td>4.299%</td>\n",
       "      <td>2568</td>\n",
       "      <td>110.0</td>\n",
       "      <td>8586648.0</td>\n",
       "      <td>102452.0</td>\n",
       "      <td>Europe</td>\n",
       "      <td>0.102452</td>\n",
       "      <td>0.102452</td>\n",
       "      <td>High Test Rate</td>\n",
       "    </tr>\n",
       "    <tr>\n",
       "      <th>19</th>\n",
       "      <td>19</td>\n",
       "      <td>France</td>\n",
       "      <td>65288306</td>\n",
       "      <td>195633</td>\n",
       "      <td>30312.0</td>\n",
       "      <td>0.300%</td>\n",
       "      <td>15.494%</td>\n",
       "      <td>2996</td>\n",
       "      <td>464.0</td>\n",
       "      <td>3992206.0</td>\n",
       "      <td>61147.0</td>\n",
       "      <td>Europe</td>\n",
       "      <td>0.061147</td>\n",
       "      <td>0.061147</td>\n",
       "      <td>Medium Test Rate</td>\n",
       "    </tr>\n",
       "  </tbody>\n",
       "</table>\n",
       "</div>"
      ],
      "text/plain": [
       "    Unnamed: 0 Country/Region  Population  Total Cases  Total Deaths  \\\n",
       "0            0            USA   331198130      5032179      162804.0   \n",
       "1            1         Brazil   212710692      2917562       98644.0   \n",
       "2            2          India  1381344997      2025409       41638.0   \n",
       "3            3         Russia   145940924       871894       14606.0   \n",
       "4            4   South Africa    59381566       538184        9604.0   \n",
       "5            5         Mexico   129066160       462690       50517.0   \n",
       "6            6           Peru    33016319       455409       20424.0   \n",
       "7            7          Chile    19132514       366671        9889.0   \n",
       "8            8       Colombia    50936262       357710       11939.0   \n",
       "9            9          Spain    46756648       354530       28500.0   \n",
       "10          10           Iran    84097623       320117       17976.0   \n",
       "11          11             UK    67922029       308134       46413.0   \n",
       "12          12   Saudi Arabia    34865919       284226        3055.0   \n",
       "13          13       Pakistan   221295851       281863        6035.0   \n",
       "14          14     Bangladesh   164851401       249651        3306.0   \n",
       "15          15          Italy    60452568       249204       35187.0   \n",
       "16          16         Turkey    84428331       237265        5798.0   \n",
       "17          17      Argentina    45236884       228195        4251.0   \n",
       "18          18        Germany    83811260       215210        9252.0   \n",
       "19          19         France    65288306       195633       30312.0   \n",
       "\n",
       "   % of Population With Covid % of Cases that Result in Death  \\\n",
       "0                      1.519%                          3.235%   \n",
       "1                      1.372%                          3.381%   \n",
       "2                      0.147%                          2.056%   \n",
       "3                      0.597%                          1.675%   \n",
       "4                      0.906%                          1.785%   \n",
       "5                      0.358%                         10.918%   \n",
       "6                      1.379%                          4.485%   \n",
       "7                      1.916%                          2.697%   \n",
       "8                      0.702%                          3.338%   \n",
       "9                      0.758%                          8.039%   \n",
       "10                     0.381%                          5.615%   \n",
       "11                     0.454%                         15.063%   \n",
       "12                     0.815%                          1.075%   \n",
       "13                     0.127%                          2.141%   \n",
       "14                     0.151%                          1.324%   \n",
       "15                     0.412%                         14.120%   \n",
       "16                     0.281%                          2.444%   \n",
       "17                     0.504%                          1.863%   \n",
       "18                     0.257%                          4.299%   \n",
       "19                     0.300%                         15.494%   \n",
       "\n",
       "    Tot Cases/1M pop  Deaths/1M pop  Total Tests  Tests/1M pop  \\\n",
       "0              15194          492.0   63139605.0      190640.0   \n",
       "1              13716          464.0   13206188.0       62085.0   \n",
       "2               1466           30.0   22149351.0       16035.0   \n",
       "3               5974          100.0   29716907.0      203623.0   \n",
       "4               9063          162.0    3149807.0       53044.0   \n",
       "5               3585          391.0    1056915.0        8189.0   \n",
       "6              13793          619.0    2493429.0       75521.0   \n",
       "7              19165          517.0    1760615.0       92022.0   \n",
       "8               7023          234.0    1801835.0       35374.0   \n",
       "9               7582          610.0    7064329.0      151087.0   \n",
       "10              3806          214.0    2612763.0       31068.0   \n",
       "11              4537          683.0   17515234.0      257873.0   \n",
       "12              8152           88.0    3635705.0      104277.0   \n",
       "13              1274           27.0    2058872.0        9304.0   \n",
       "14              1514           20.0    1225124.0        7432.0   \n",
       "15              4122          582.0    7099713.0      117443.0   \n",
       "16              2810           69.0    5081802.0       60191.0   \n",
       "17              5044           94.0     794544.0       17564.0   \n",
       "18              2568          110.0    8586648.0      102452.0   \n",
       "19              2996          464.0    3992206.0       61147.0   \n",
       "\n",
       "        WHO Region  Test Rate  Country Test Rate      country_flag  \n",
       "0         Americas   0.190640           0.190640    High Test Rate  \n",
       "1         Americas   0.062085           0.062085  Medium Test Rate  \n",
       "2   South-EastAsia   0.016035           0.016035   Lower Test Rate  \n",
       "3           Europe   0.203623           0.203623    High Test Rate  \n",
       "4           Africa   0.053044           0.053044  Medium Test Rate  \n",
       "5         Americas   0.008189           0.008189   Lower Test Rate  \n",
       "6         Americas   0.075521           0.075521  Medium Test Rate  \n",
       "7         Americas   0.092022           0.092022  Medium Test Rate  \n",
       "8         Americas   0.035374           0.035374  Medium Test Rate  \n",
       "9           Europe   0.151087           0.151087    High Test Rate  \n",
       "10      MiddleEast   0.031068           0.031068  Medium Test Rate  \n",
       "11          Europe   0.257873           0.257873    High Test Rate  \n",
       "12      MiddleEast   0.104277           0.104277    High Test Rate  \n",
       "13      MiddleEast   0.009304           0.009304   Lower Test Rate  \n",
       "14  South-EastAsia   0.007432           0.007432   Lower Test Rate  \n",
       "15          Europe   0.117443           0.117443    High Test Rate  \n",
       "16          Europe   0.060191           0.060191  Medium Test Rate  \n",
       "17        Americas   0.017564           0.017564   Lower Test Rate  \n",
       "18          Europe   0.102452           0.102452    High Test Rate  \n",
       "19          Europe   0.061147           0.061147  Medium Test Rate  "
      ]
     },
     "execution_count": 11,
     "metadata": {},
     "output_type": "execute_result"
    }
   ],
   "source": [
    "df.head(20)"
   ]
  },
  {
   "cell_type": "code",
   "execution_count": 12,
   "metadata": {},
   "outputs": [
    {
     "data": {
      "text/plain": [
       "(208, 15)"
      ]
     },
     "execution_count": 12,
     "metadata": {},
     "output_type": "execute_result"
    }
   ],
   "source": [
    "df.shape"
   ]
  },
  {
   "cell_type": "code",
   "execution_count": 13,
   "metadata": {},
   "outputs": [],
   "source": [
    "# Renaming the columns\n",
    "\n",
    "df.rename(columns = {'Country/Region' : 'Country' }, inplace = True)"
   ]
  },
  {
   "cell_type": "code",
   "execution_count": 14,
   "metadata": {},
   "outputs": [],
   "source": [
    "# Dropping columns that are not needed.\n",
    "\n",
    "df = df.drop(columns = ['Unnamed: 0', 'Test Rate' ])"
   ]
  },
  {
   "cell_type": "code",
   "execution_count": 15,
   "metadata": {},
   "outputs": [
    {
     "data": {
      "text/plain": [
       "<bound method DataFrame.info of                    Country  Population  Total Cases  Total Deaths  \\\n",
       "0                      USA   331198130      5032179      162804.0   \n",
       "1                   Brazil   212710692      2917562       98644.0   \n",
       "2                    India  1381344997      2025409       41638.0   \n",
       "3                   Russia   145940924       871894       14606.0   \n",
       "4             South Africa    59381566       538184        9604.0   \n",
       "..                     ...         ...          ...           ...   \n",
       "203             Montserrat        4992           13           1.0   \n",
       "204  Caribbean Netherlands       26247           13           NaN   \n",
       "205       Falkland Islands        3489           13           NaN   \n",
       "206           Vatican City         801           12           NaN   \n",
       "207         Western Sahara      598682           10           1.0   \n",
       "\n",
       "    % of Population With Covid % of Cases that Result in Death  \\\n",
       "0                       1.519%                          3.235%   \n",
       "1                       1.372%                          3.381%   \n",
       "2                       0.147%                          2.056%   \n",
       "3                       0.597%                          1.675%   \n",
       "4                       0.906%                          1.785%   \n",
       "..                         ...                             ...   \n",
       "203                     0.260%                          7.692%   \n",
       "204                     0.050%                          0.000%   \n",
       "205                     0.373%                          0.000%   \n",
       "206                     1.498%                          0.000%   \n",
       "207                     0.002%                         10.000%   \n",
       "\n",
       "     Tot Cases/1M pop  Deaths/1M pop  Total Tests  Tests/1M pop  \\\n",
       "0               15194          492.0   63139605.0      190640.0   \n",
       "1               13716          464.0   13206188.0       62085.0   \n",
       "2                1466           30.0   22149351.0       16035.0   \n",
       "3                5974          100.0   29716907.0      203623.0   \n",
       "4                9063          162.0    3149807.0       53044.0   \n",
       "..                ...            ...          ...           ...   \n",
       "203              2604          200.0         61.0       12220.0   \n",
       "204               495            NaN        424.0       16154.0   \n",
       "205              3726            NaN       1816.0      520493.0   \n",
       "206             14981            NaN          NaN           NaN   \n",
       "207                17            2.0          NaN           NaN   \n",
       "\n",
       "         WHO Region  Country Test Rate      country_flag  \n",
       "0          Americas           0.190640    High Test Rate  \n",
       "1          Americas           0.062085  Medium Test Rate  \n",
       "2    South-EastAsia           0.016035   Lower Test Rate  \n",
       "3            Europe           0.203623    High Test Rate  \n",
       "4            Africa           0.053044  Medium Test Rate  \n",
       "..              ...                ...               ...  \n",
       "203        Americas           0.012220   Lower Test Rate  \n",
       "204        Americas           0.016154   Lower Test Rate  \n",
       "205        Americas           0.520493    High Test Rate  \n",
       "206          Europe                NaN               NaN  \n",
       "207          Africa                NaN               NaN  \n",
       "\n",
       "[208 rows x 13 columns]>"
      ]
     },
     "execution_count": 15,
     "metadata": {},
     "output_type": "execute_result"
    }
   ],
   "source": [
    "df.info"
   ]
  },
  {
   "cell_type": "markdown",
   "metadata": {},
   "source": [
    "Missing Values\n",
    "\n"
   ]
  },
  {
   "cell_type": "code",
   "execution_count": 16,
   "metadata": {},
   "outputs": [
    {
     "data": {
      "text/plain": [
       "Country                             0\n",
       "Population                          0\n",
       "Total Cases                         0\n",
       "Total Deaths                       21\n",
       "% of Population With Covid          0\n",
       "% of Cases that Result in Death     0\n",
       "Tot Cases/1M pop                    0\n",
       "Deaths/1M pop                      21\n",
       "Total Tests                        17\n",
       "Tests/1M pop                       17\n",
       "WHO Region                          0\n",
       "Country Test Rate                  17\n",
       "country_flag                       17\n",
       "dtype: int64"
      ]
     },
     "execution_count": 16,
     "metadata": {},
     "output_type": "execute_result"
    }
   ],
   "source": [
    "# Check for missing values\n",
    "\n",
    "df.isnull().sum()"
   ]
  },
  {
   "cell_type": "code",
   "execution_count": 25,
   "metadata": {},
   "outputs": [
    {
     "data": {
      "text/plain": [
       "NaN       21\n",
       "1.0        7\n",
       "3.0        5\n",
       "15.0       4\n",
       "2.0        3\n",
       "          ..\n",
       "76.0       1\n",
       "23.0       1\n",
       "42.0       1\n",
       "21.0       1\n",
       "9604.0     1\n",
       "Name: Total Deaths, Length: 150, dtype: int64"
      ]
     },
     "execution_count": 25,
     "metadata": {},
     "output_type": "execute_result"
    }
   ],
   "source": [
    "df['Total Deaths'].value_counts (dropna = False)"
   ]
  },
  {
   "cell_type": "code",
   "execution_count": 26,
   "metadata": {},
   "outputs": [],
   "source": [
    "df['Total Deaths'].fillna(0, inplace=True)"
   ]
  },
  {
   "cell_type": "code",
   "execution_count": 27,
   "metadata": {},
   "outputs": [],
   "source": [
    "df['Deaths/1M pop'].fillna(0, inplace=True)"
   ]
  },
  {
   "cell_type": "code",
   "execution_count": 28,
   "metadata": {},
   "outputs": [],
   "source": [
    "df['Total Tests'].fillna(0, inplace=True)"
   ]
  },
  {
   "cell_type": "code",
   "execution_count": 29,
   "metadata": {},
   "outputs": [],
   "source": [
    "df['Tests/1M pop'].fillna(0, inplace=True)"
   ]
  },
  {
   "cell_type": "code",
   "execution_count": 30,
   "metadata": {},
   "outputs": [],
   "source": [
    "df['Country Test Rate'].fillna(0, inplace=True)"
   ]
  },
  {
   "cell_type": "code",
   "execution_count": 32,
   "metadata": {},
   "outputs": [
    {
     "data": {
      "text/plain": [
       "Lower Test Rate     87\n",
       "Medium Test Rate    61\n",
       "High Test Rate      43\n",
       "NaN                 17\n",
       "Name: country_flag, dtype: int64"
      ]
     },
     "execution_count": 32,
     "metadata": {},
     "output_type": "execute_result"
    }
   ],
   "source": [
    "df['country_flag'].value_counts (dropna = False)"
   ]
  },
  {
   "cell_type": "markdown",
   "metadata": {},
   "source": [
    "Duplicates check"
   ]
  },
  {
   "cell_type": "code",
   "execution_count": 17,
   "metadata": {},
   "outputs": [],
   "source": [
    "dups = df.duplicated()"
   ]
  },
  {
   "cell_type": "code",
   "execution_count": 18,
   "metadata": {},
   "outputs": [
    {
     "data": {
      "text/plain": [
       "(208,)"
      ]
     },
     "execution_count": 18,
     "metadata": {},
     "output_type": "execute_result"
    }
   ],
   "source": [
    "dups.shape"
   ]
  },
  {
   "cell_type": "markdown",
   "metadata": {},
   "source": [
    "Extreme values checks"
   ]
  },
  {
   "cell_type": "code",
   "execution_count": 55,
   "metadata": {},
   "outputs": [
    {
     "data": {
      "text/plain": [
       "<matplotlib.axes._subplots.AxesSubplot at 0x7f83b9034250>"
      ]
     },
     "execution_count": 55,
     "metadata": {},
     "output_type": "execute_result"
    },
    {
     "data": {
      "image/png": "[encoded data removed]",
      "text/plain": [
       "<Figure size 432x288 with 1 Axes>"
      ]
     },
     "metadata": {
      "needs_background": "light"
     },
     "output_type": "display_data"
    }
   ],
   "source": [
    "sns.distplot(df['Deaths/1M pop'], bins=25)"
   ]
  },
  {
   "cell_type": "code",
   "execution_count": 56,
   "metadata": {},
   "outputs": [
    {
     "data": {
      "text/plain": [
       "88.71817307692307"
      ]
     },
     "execution_count": 56,
     "metadata": {},
     "output_type": "execute_result"
    }
   ],
   "source": [
    "df['Deaths/1M pop'].mean()"
   ]
  },
  {
   "cell_type": "code",
   "execution_count": 57,
   "metadata": {},
   "outputs": [
    {
     "data": {
      "text/plain": [
       "20.0"
      ]
     },
     "execution_count": 57,
     "metadata": {},
     "output_type": "execute_result"
    }
   ],
   "source": [
    "df['Deaths/1M pop'].median()"
   ]
  },
  {
   "cell_type": "code",
   "execution_count": 59,
   "metadata": {},
   "outputs": [
    {
     "data": {
      "text/plain": [
       "1238.0"
      ]
     },
     "execution_count": 59,
     "metadata": {},
     "output_type": "execute_result"
    }
   ],
   "source": [
    "df['Deaths/1M pop'].max()"
   ]
  },
  {
   "cell_type": "markdown",
   "metadata": {},
   "source": [
    "# Question 4: Explore Data Visually"
   ]
  },
  {
   "cell_type": "code",
   "execution_count": 60,
   "metadata": {},
   "outputs": [
    {
     "data": {
      "image/png": "[encoded data removed]",
      "text/plain": [
       "<Figure size 432x288 with 1 Axes>"
      ]
     },
     "metadata": {
      "needs_background": "light"
     },
     "output_type": "display_data"
    }
   ],
   "source": [
    "# Create a scatterplot using matplotlib for another look at how the chosen variables plot against each other.\n",
    "\n",
    "df.plot(x = 'Tests/1M pop', y='Deaths/1M pop',style='o') \n",
    "plt.title('Tests/1M pop vs. Deaths/1M pop')  \n",
    "plt.xlabel('Total Tests/1M pop')  \n",
    "plt.ylabel('Total Deaths/1M pop')  \n",
    "plt.show()"
   ]
  },
  {
   "cell_type": "markdown",
   "metadata": {},
   "source": [
    "# Question 5: State your Hypothesis\n",
    "\n",
    "# Hypothesis: Countries with stricter mask guidelines and more shutdowns have kept the virus at a lower rate.  Countries with more testing have lower death rates as compared to case counts.  With more testing, countries can prevent further spread of the virus and quickly get sick people the health care needed to prevent death.  "
   ]
  },
  {
   "cell_type": "markdown",
   "metadata": {},
   "source": [
    "# Question 6: Reshape the variables into NumPy arrays"
   ]
  },
  {
   "cell_type": "code",
   "execution_count": 61,
   "metadata": {},
   "outputs": [],
   "source": [
    "# Reshape the variables into NumPy arrays and put them into separate objects.\n",
    "\n",
    "X = df['Tests/1M pop'].values.reshape(-1,1)\n",
    "y = df['Deaths/1M pop'].values.reshape(-1,1)"
   ]
  },
  {
   "cell_type": "code",
   "execution_count": 62,
   "metadata": {},
   "outputs": [
    {
     "data": {
      "text/plain": [
       "array([[1.90640e+05],\n",
       "       [6.20850e+04],\n",
       "       [1.60350e+04],\n",
       "       [2.03623e+05],\n",
       "       [5.30440e+04],\n",
       "       [8.18900e+03],\n",
       "       [7.55210e+04],\n",
       "       [9.20220e+04],\n",
       "       [3.53740e+04],\n",
       "       [1.51087e+05],\n",
       "       [3.10680e+04],\n",
       "       [2.57873e+05],\n",
       "       [1.04277e+05],\n",
       "       [9.30400e+03],\n",
       "       [7.43200e+03],\n",
       "       [1.17443e+05],\n",
       "       [6.01910e+04],\n",
       "       [1.75640e+04],\n",
       "       [1.02452e+05],\n",
       "       [6.11470e+04],\n",
       "       [2.71110e+04],\n",
       "       [1.52200e+04],\n",
       "       [5.96500e+03],\n",
       "       [1.14339e+05],\n",
       "       [1.81993e+05],\n",
       "       [1.15099e+05],\n",
       "       [1.31700e+03],\n",
       "       [1.46350e+04],\n",
       "       [1.57060e+04],\n",
       "       [8.54290e+04],\n",
       "       [6.04110e+04],\n",
       "       [2.03581e+05],\n",
       "       [2.55490e+04],\n",
       "       [2.59630e+04],\n",
       "       [5.57690e+04],\n",
       "       [1.52407e+05],\n",
       "       [1.22105e+05],\n",
       "       [1.42269e+05],\n",
       "       [5.31470e+05],\n",
       "       [6.86310e+04],\n",
       "       [6.30070e+04],\n",
       "       [2.51817e+05],\n",
       "       [9.62400e+03],\n",
       "       [1.67308e+05],\n",
       "       [6.27520e+04],\n",
       "       [1.48500e+03],\n",
       "       [1.10180e+04],\n",
       "       [5.13691e+05],\n",
       "       [7.42500e+03],\n",
       "       [5.78980e+04],\n",
       "       [1.30350e+04],\n",
       "       [4.09700e+04],\n",
       "       [2.31700e+03],\n",
       "       [9.49970e+04],\n",
       "       [0.00000e+00],\n",
       "       [7.54990e+04],\n",
       "       [3.74480e+04],\n",
       "       [4.11120e+04],\n",
       "       [8.27990e+04],\n",
       "       [3.17570e+04],\n",
       "       [1.32084e+05],\n",
       "       [6.22300e+03],\n",
       "       [5.51380e+04],\n",
       "       [2.50790e+04],\n",
       "       [1.04008e+05],\n",
       "       [1.88500e+04],\n",
       "       [4.06900e+03],\n",
       "       [1.81419e+05],\n",
       "       [3.87200e+04],\n",
       "       [6.80300e+04],\n",
       "       [5.60000e+03],\n",
       "       [3.95600e+03],\n",
       "       [3.14710e+04],\n",
       "       [2.85542e+05],\n",
       "       [3.91760e+04],\n",
       "       [4.48420e+04],\n",
       "       [4.23580e+04],\n",
       "       [1.66800e+03],\n",
       "       [9.00000e+00],\n",
       "       [5.27730e+04],\n",
       "       [6.83800e+03],\n",
       "       [8.71520e+04],\n",
       "       [0.00000e+00],\n",
       "       [3.05910e+04],\n",
       "       [1.38324e+05],\n",
       "       [3.82720e+04],\n",
       "       [0.00000e+00],\n",
       "       [1.09400e+03],\n",
       "       [1.61600e+03],\n",
       "       [7.02870e+04],\n",
       "       [4.90000e+03],\n",
       "       [9.95282e+05],\n",
       "       [1.23130e+04],\n",
       "       [1.89430e+04],\n",
       "       [1.35530e+04],\n",
       "       [5.06090e+04],\n",
       "       [3.05460e+04],\n",
       "       [6.05520e+04],\n",
       "       [5.94560e+04],\n",
       "       [8.67700e+03],\n",
       "       [3.15250e+04],\n",
       "       [1.58071e+05],\n",
       "       [6.11600e+03],\n",
       "       [3.65040e+04],\n",
       "       [1.74500e+03],\n",
       "       [9.43400e+03],\n",
       "       [0.00000e+00],\n",
       "       [9.22870e+04],\n",
       "       [0.00000e+00],\n",
       "       [6.11820e+04],\n",
       "       [1.07310e+04],\n",
       "       [0.00000e+00],\n",
       "       [4.75460e+04],\n",
       "       [1.78960e+04],\n",
       "       [7.78300e+03],\n",
       "       [2.52050e+04],\n",
       "       [1.10735e+05],\n",
       "       [1.14850e+04],\n",
       "       [1.23900e+03],\n",
       "       [4.98770e+04],\n",
       "       [1.07500e+03],\n",
       "       [6.52740e+04],\n",
       "       [1.98955e+05],\n",
       "       [9.26260e+04],\n",
       "       [2.07900e+03],\n",
       "       [2.20510e+04],\n",
       "       [4.74300e+03],\n",
       "       [7.61000e+02],\n",
       "       [7.70900e+03],\n",
       "       [4.38385e+05],\n",
       "       [0.00000e+00],\n",
       "       [4.00000e+00],\n",
       "       [8.47800e+03],\n",
       "       [9.73480e+04],\n",
       "       [1.96500e+03],\n",
       "       [3.65350e+04],\n",
       "       [1.10359e+05],\n",
       "       [6.15620e+04],\n",
       "       [0.00000e+00],\n",
       "       [6.28700e+03],\n",
       "       [1.79267e+05],\n",
       "       [6.02940e+04],\n",
       "       [0.00000e+00],\n",
       "       [3.73000e+02],\n",
       "       [5.51600e+03],\n",
       "       [0.00000e+00],\n",
       "       [1.41230e+04],\n",
       "       [3.09541e+05],\n",
       "       [4.85260e+04],\n",
       "       [0.00000e+00],\n",
       "       [2.13900e+03],\n",
       "       [1.40250e+04],\n",
       "       [2.90410e+04],\n",
       "       [1.22300e+04],\n",
       "       [4.95200e+03],\n",
       "       [4.09100e+03],\n",
       "       [1.78797e+05],\n",
       "       [3.95320e+04],\n",
       "       [1.76535e+05],\n",
       "       [6.56300e+03],\n",
       "       [0.00000e+00],\n",
       "       [3.47300e+03],\n",
       "       [0.00000e+00],\n",
       "       [1.31000e+03],\n",
       "       [2.24600e+03],\n",
       "       [1.61389e+05],\n",
       "       [1.01401e+05],\n",
       "       [1.16750e+04],\n",
       "       [0.00000e+00],\n",
       "       [4.61750e+04],\n",
       "       [3.25850e+04],\n",
       "       [8.80590e+05],\n",
       "       [1.31511e+05],\n",
       "       [4.05000e+03],\n",
       "       [6.82800e+03],\n",
       "       [4.72780e+05],\n",
       "       [6.84565e+05],\n",
       "       [1.20600e+03],\n",
       "       [2.59760e+04],\n",
       "       [4.23298e+05],\n",
       "       [9.39680e+04],\n",
       "       [4.25630e+04],\n",
       "       [3.22950e+04],\n",
       "       [0.00000e+00],\n",
       "       [9.72982e+05],\n",
       "       [7.06710e+04],\n",
       "       [1.53050e+04],\n",
       "       [2.35980e+04],\n",
       "       [9.23600e+03],\n",
       "       [2.08100e+04],\n",
       "       [2.20500e+04],\n",
       "       [3.05460e+04],\n",
       "       [6.26100e+03],\n",
       "       [6.57900e+03],\n",
       "       [7.46100e+03],\n",
       "       [2.12020e+04],\n",
       "       [3.20900e+03],\n",
       "       [5.55360e+04],\n",
       "       [3.88390e+04],\n",
       "       [4.03200e+03],\n",
       "       [1.39580e+04],\n",
       "       [2.15260e+04],\n",
       "       [1.05266e+05],\n",
       "       [1.22200e+04],\n",
       "       [1.61540e+04],\n",
       "       [5.20493e+05],\n",
       "       [0.00000e+00],\n",
       "       [0.00000e+00]])"
      ]
     },
     "execution_count": 62,
     "metadata": {},
     "output_type": "execute_result"
    }
   ],
   "source": [
    "X"
   ]
  },
  {
   "cell_type": "code",
   "execution_count": 63,
   "metadata": {},
   "outputs": [
    {
     "data": {
      "text/plain": [
       "array([[4.920e+02],\n",
       "       [4.640e+02],\n",
       "       [3.000e+01],\n",
       "       [1.000e+02],\n",
       "       [1.620e+02],\n",
       "       [3.910e+02],\n",
       "       [6.190e+02],\n",
       "       [5.170e+02],\n",
       "       [2.340e+02],\n",
       "       [6.100e+02],\n",
       "       [2.140e+02],\n",
       "       [6.830e+02],\n",
       "       [8.800e+01],\n",
       "       [2.700e+01],\n",
       "       [2.000e+01],\n",
       "       [5.820e+02],\n",
       "       [6.900e+01],\n",
       "       [9.400e+01],\n",
       "       [1.100e+02],\n",
       "       [4.640e+02],\n",
       "       [1.280e+02],\n",
       "       [2.000e+01],\n",
       "       [2.000e+01],\n",
       "       [2.370e+02],\n",
       "       [6.300e+01],\n",
       "       [5.600e+01],\n",
       "       [4.800e+01],\n",
       "       [3.330e+02],\n",
       "       [2.960e+02],\n",
       "       [5.710e+02],\n",
       "       [9.600e+01],\n",
       "       [6.300e+01],\n",
       "       [4.200e+01],\n",
       "       [1.150e+02],\n",
       "       [3.640e+02],\n",
       "       [8.500e+02],\n",
       "       [1.100e+02],\n",
       "       [6.100e+01],\n",
       "       [3.600e+01],\n",
       "       [1.330e+02],\n",
       "       [3.590e+02],\n",
       "       [5.000e+00],\n",
       "       [1.180e+02],\n",
       "       [1.710e+02],\n",
       "       [4.700e+01],\n",
       "       [5.000e+00],\n",
       "       [1.430e+02],\n",
       "       [9.100e+01],\n",
       "       [8.000e+00],\n",
       "       [2.600e+02],\n",
       "       [6.000e+00],\n",
       "       [2.210e+02],\n",
       "       [3.300e+01],\n",
       "       [2.290e+02],\n",
       "       [2.900e+01],\n",
       "       [4.700e+01],\n",
       "       [1.200e+01],\n",
       "       [5.000e+00],\n",
       "       [7.100e+01],\n",
       "       [2.050e+02],\n",
       "       [3.580e+02],\n",
       "       [7.000e+00],\n",
       "       [7.000e+00],\n",
       "       [2.000e+00],\n",
       "       [8.000e+01],\n",
       "       [3.900e+01],\n",
       "       [3.000e+00],\n",
       "       [1.000e+01],\n",
       "       [7.900e+01],\n",
       "       [3.600e+01],\n",
       "       [1.500e+01],\n",
       "       [4.000e+00],\n",
       "       [6.000e+00],\n",
       "       [1.060e+02],\n",
       "       [1.800e+01],\n",
       "       [1.170e+02],\n",
       "       [6.300e+01],\n",
       "       [5.000e+00],\n",
       "       [1.700e+01],\n",
       "       [2.480e+02],\n",
       "       [1.300e+01],\n",
       "       [4.700e+01],\n",
       "       [2.000e+00],\n",
       "       [4.000e+00],\n",
       "       [1.570e+02],\n",
       "       [2.300e+01],\n",
       "       [6.000e+00],\n",
       "       [4.000e+00],\n",
       "       [1.500e+01],\n",
       "       [6.000e+01],\n",
       "       [1.100e+01],\n",
       "       [1.900e+02],\n",
       "       [3.400e+01],\n",
       "       [9.000e+00],\n",
       "       [6.500e+01],\n",
       "       [1.000e+01],\n",
       "       [3.800e+01],\n",
       "       [6.000e+01],\n",
       "       [2.000e+01],\n",
       "       [1.600e+01],\n",
       "       [5.900e+01],\n",
       "       [3.500e+01],\n",
       "       [1.200e+01],\n",
       "       [6.200e+01],\n",
       "       [7.000e+00],\n",
       "       [6.000e+00],\n",
       "       [1.900e+01],\n",
       "       [6.000e+00],\n",
       "       [1.000e+01],\n",
       "       [9.600e+01],\n",
       "       [8.000e-01],\n",
       "       [6.000e+00],\n",
       "       [1.430e+02],\n",
       "       [4.700e+01],\n",
       "       [5.000e-01],\n",
       "       [8.000e+00],\n",
       "       [4.900e+01],\n",
       "       [6.000e+00],\n",
       "       [6.000e+00],\n",
       "       [5.000e+00],\n",
       "       [4.000e+00],\n",
       "       [6.000e+01],\n",
       "       [3.000e+01],\n",
       "       [4.700e+01],\n",
       "       [5.000e-01],\n",
       "       [4.000e-01],\n",
       "       [4.900e+01],\n",
       "       [1.400e+01],\n",
       "       [3.000e+00],\n",
       "       [2.900e+01],\n",
       "       [8.000e+00],\n",
       "       [1.700e+01],\n",
       "       [4.000e+00],\n",
       "       [4.000e+00],\n",
       "       [2.000e+00],\n",
       "       [1.100e+01],\n",
       "       [1.700e+01],\n",
       "       [1.000e+00],\n",
       "       [1.500e+01],\n",
       "       [1.000e-01],\n",
       "       [1.600e+01],\n",
       "       [4.000e+00],\n",
       "       [3.000e+00],\n",
       "       [3.000e+00],\n",
       "       [3.000e+00],\n",
       "       [3.000e+00],\n",
       "       [4.000e+00],\n",
       "       [2.000e+01],\n",
       "       [6.730e+02],\n",
       "       [5.000e+00],\n",
       "       [7.000e+00],\n",
       "       [6.800e+01],\n",
       "       [8.000e-01],\n",
       "       [3.600e+01],\n",
       "       [1.000e-01],\n",
       "       [1.100e+01],\n",
       "       [1.238e+03],\n",
       "       [6.000e+00],\n",
       "       [2.700e+02],\n",
       "       [2.800e+01],\n",
       "       [4.000e-01],\n",
       "       [3.000e-01],\n",
       "       [8.000e+00],\n",
       "       [8.000e-02],\n",
       "       [1.000e-01],\n",
       "       [8.000e+00],\n",
       "       [2.820e+02],\n",
       "       [0.000e+00],\n",
       "       [0.000e+00],\n",
       "       [3.500e+01],\n",
       "       [4.000e+01],\n",
       "       [0.000e+00],\n",
       "       [2.800e+01],\n",
       "       [0.000e+00],\n",
       "       [6.000e+00],\n",
       "       [1.500e+01],\n",
       "       [0.000e+00],\n",
       "       [3.000e-01],\n",
       "       [3.730e+02],\n",
       "       [1.450e+02],\n",
       "       [7.000e+00],\n",
       "       [2.400e+01],\n",
       "       [5.200e+01],\n",
       "       [0.000e+00],\n",
       "       [1.020e+02],\n",
       "       [0.000e+00],\n",
       "       [3.100e+01],\n",
       "       [2.600e+01],\n",
       "       [5.000e+00],\n",
       "       [0.000e+00],\n",
       "       [0.000e+00],\n",
       "       [7.700e+01],\n",
       "       [0.000e+00],\n",
       "       [6.000e+00],\n",
       "       [1.000e+00],\n",
       "       [0.000e+00],\n",
       "       [0.000e+00],\n",
       "       [0.000e+00],\n",
       "       [0.000e+00],\n",
       "       [0.000e+00],\n",
       "       [0.000e+00],\n",
       "       [0.000e+00],\n",
       "       [0.000e+00],\n",
       "       [2.000e+02],\n",
       "       [0.000e+00],\n",
       "       [0.000e+00],\n",
       "       [0.000e+00],\n",
       "       [2.000e+00]])"
      ]
     },
     "execution_count": 63,
     "metadata": {},
     "output_type": "execute_result"
    }
   ],
   "source": [
    "y"
   ]
  },
  {
   "cell_type": "code",
   "execution_count": 64,
   "metadata": {},
   "outputs": [],
   "source": [
    "# Question 7: Split data into a training set and a test set.\n",
    "\n",
    "X_train, X_test, y_train, y_test = train_test_split(X, y, test_size=0.3, random_state=0)"
   ]
  },
  {
   "cell_type": "markdown",
   "metadata": {},
   "source": [
    "# Question 8: Linear Regression "
   ]
  },
  {
   "cell_type": "code",
   "execution_count": 65,
   "metadata": {},
   "outputs": [],
   "source": [
    "# Create a regression object.\n",
    "\n",
    "regression = LinearRegression()  "
   ]
  },
  {
   "cell_type": "code",
   "execution_count": 66,
   "metadata": {},
   "outputs": [
    {
     "data": {
      "text/plain": [
       "LinearRegression()"
      ]
     },
     "execution_count": 66,
     "metadata": {},
     "output_type": "execute_result"
    }
   ],
   "source": [
    "# Fit the regression object onto the training set.\n",
    "\n",
    "regression.fit(X_train, y_train)"
   ]
  },
  {
   "cell_type": "code",
   "execution_count": 67,
   "metadata": {},
   "outputs": [],
   "source": [
    "# Predict the values of y using X.\n",
    "\n",
    "y_predicted = regression.predict(X_test)"
   ]
  },
  {
   "cell_type": "code",
   "execution_count": 68,
   "metadata": {},
   "outputs": [
    {
     "data": {
      "image/png": "[encoded data removed]",
      "text/plain": [
       "<Figure size 432x288 with 1 Axes>"
      ]
     },
     "metadata": {
      "needs_background": "light"
     },
     "output_type": "display_data"
    }
   ],
   "source": [
    "# Question 9: Create a plot that shows the regression line from the model on the test set.\n",
    "\n",
    "plot_test = plt\n",
    "plot_test.scatter(X_test, y_test, color='gray', s = 15)\n",
    "plot_test.plot(X_test, y_predicted, color='red', linewidth =3)\n",
    "plot_test.title('Tests/1M population vs. Deaths/1M population (Test set)')\n",
    "plot_test.xlabel('Tests/1M population')\n",
    "plot_test.ylabel('Deaths/1M population')\n",
    "plot_test.show()"
   ]
  },
  {
   "cell_type": "markdown",
   "metadata": {},
   "source": [
    "# Question 10: Interpretation of how well the line fits: There are very few dots that match up with the regression line on this chart.  I can already see that the regression line will not be a good predictor."
   ]
  },
  {
   "cell_type": "code",
   "execution_count": 69,
   "metadata": {},
   "outputs": [],
   "source": [
    "# Create objects that contain the model summary statistics.\n",
    "\n",
    "rmse = mean_squared_error(y_test, y_predicted) \n",
    "r2 = r2_score(y_test, y_predicted)  "
   ]
  },
  {
   "cell_type": "code",
   "execution_count": 70,
   "metadata": {},
   "outputs": [
    {
     "name": "stdout",
     "output_type": "stream",
     "text": [
      "Slope: [[0.00014857]]\n",
      "Mean squared error:  35301.20144584325\n",
      "R2 score:  0.014471398455529472\n"
     ]
    }
   ],
   "source": [
    "# Question 11: Print the model summary statistics. \n",
    "\n",
    "print('Slope:' ,regression.coef_)\n",
    "print('Mean squared error: ', rmse)\n",
    "print('R2 score: ', r2)"
   ]
  },
  {
   "cell_type": "code",
   "execution_count": 71,
   "metadata": {},
   "outputs": [
    {
     "data": {
      "text/plain": [
       "array([[ 92.32130299],\n",
       "       [ 77.84473294],\n",
       "       [ 80.68614554],\n",
       "       [ 78.04545181],\n",
       "       [ 80.33477609],\n",
       "       [ 81.37373024],\n",
       "       [ 93.28077188],\n",
       "       [106.38766963],\n",
       "       [ 77.55680313],\n",
       "       [ 77.5645288 ],\n",
       "       [ 77.04943455],\n",
       "       [103.39278361],\n",
       "       [ 77.17304529],\n",
       "       [ 79.92056127],\n",
       "       [ 81.36704457],\n",
       "       [ 76.82880722],\n",
       "       [ 79.22881659],\n",
       "       [ 97.96579697],\n",
       "       [ 77.43334097],\n",
       "       [ 92.05016166],\n",
       "       [ 81.66998001],\n",
       "       [ 94.27738342],\n",
       "       [ 90.50057037],\n",
       "       [ 88.04573845],\n",
       "       [ 78.65815694],\n",
       "       [ 77.12074844],\n",
       "       [ 80.10493738],\n",
       "       [ 77.13768549],\n",
       "       [103.05671693],\n",
       "       [221.38532031],\n",
       "       [ 83.49100977],\n",
       "       [ 76.82880722],\n",
       "       [ 76.82880722],\n",
       "       [ 77.41655249],\n",
       "       [ 79.10268015],\n",
       "       [ 76.82880722],\n",
       "       [178.53503548],\n",
       "       [ 77.01288619],\n",
       "       [ 85.77141981],\n",
       "       [ 82.25683385],\n",
       "       [ 80.10478881],\n",
       "       [ 77.71503081],\n",
       "       [ 77.08806291],\n",
       "       [ 85.78672258],\n",
       "       [ 84.70958578],\n",
       "       [ 82.64920879],\n",
       "       [ 93.22490934],\n",
       "       [ 86.1519091 ],\n",
       "       [ 80.55480913],\n",
       "       [ 76.82880722],\n",
       "       [ 77.02447469],\n",
       "       [100.31350949],\n",
       "       [ 91.89401396],\n",
       "       [ 77.30557026],\n",
       "       [ 82.08434339],\n",
       "       [ 86.1897946 ],\n",
       "       [ 85.91865327],\n",
       "       [ 77.53347755],\n",
       "       [141.9599268 ],\n",
       "       [ 78.42311826],\n",
       "       [ 81.36704457],\n",
       "       [ 90.53994157],\n",
       "       [ 83.12196042]])"
      ]
     },
     "execution_count": 71,
     "metadata": {},
     "output_type": "execute_result"
    }
   ],
   "source": [
    "y_predicted"
   ]
  },
  {
   "cell_type": "code",
   "execution_count": 72,
   "metadata": {},
   "outputs": [
    {
     "data": {
      "text/html": [
       "<div>\n",
       "<style scoped>\n",
       "    .dataframe tbody tr th:only-of-type {\n",
       "        vertical-align: middle;\n",
       "    }\n",
       "\n",
       "    .dataframe tbody tr th {\n",
       "        vertical-align: top;\n",
       "    }\n",
       "\n",
       "    .dataframe thead th {\n",
       "        text-align: right;\n",
       "    }\n",
       "</style>\n",
       "<table border=\"1\" class=\"dataframe\">\n",
       "  <thead>\n",
       "    <tr style=\"text-align: right;\">\n",
       "      <th></th>\n",
       "      <th>Actual</th>\n",
       "      <th>Predicted</th>\n",
       "    </tr>\n",
       "  </thead>\n",
       "  <tbody>\n",
       "    <tr>\n",
       "      <th>0</th>\n",
       "      <td>88.0</td>\n",
       "      <td>92.321303</td>\n",
       "    </tr>\n",
       "    <tr>\n",
       "      <th>1</th>\n",
       "      <td>13.0</td>\n",
       "      <td>77.844733</td>\n",
       "    </tr>\n",
       "    <tr>\n",
       "      <th>2</th>\n",
       "      <td>115.0</td>\n",
       "      <td>80.686146</td>\n",
       "    </tr>\n",
       "    <tr>\n",
       "      <th>3</th>\n",
       "      <td>391.0</td>\n",
       "      <td>78.045452</td>\n",
       "    </tr>\n",
       "    <tr>\n",
       "      <th>4</th>\n",
       "      <td>26.0</td>\n",
       "      <td>80.334776</td>\n",
       "    </tr>\n",
       "    <tr>\n",
       "      <th>5</th>\n",
       "      <td>4.0</td>\n",
       "      <td>81.373730</td>\n",
       "    </tr>\n",
       "    <tr>\n",
       "      <th>6</th>\n",
       "      <td>49.0</td>\n",
       "      <td>93.280772</td>\n",
       "    </tr>\n",
       "    <tr>\n",
       "      <th>7</th>\n",
       "      <td>30.0</td>\n",
       "      <td>106.387670</td>\n",
       "    </tr>\n",
       "    <tr>\n",
       "      <th>8</th>\n",
       "      <td>11.0</td>\n",
       "      <td>77.556803</td>\n",
       "    </tr>\n",
       "    <tr>\n",
       "      <th>9</th>\n",
       "      <td>0.1</td>\n",
       "      <td>77.564529</td>\n",
       "    </tr>\n",
       "    <tr>\n",
       "      <th>10</th>\n",
       "      <td>5.0</td>\n",
       "      <td>77.049435</td>\n",
       "    </tr>\n",
       "    <tr>\n",
       "      <th>11</th>\n",
       "      <td>1238.0</td>\n",
       "      <td>103.392784</td>\n",
       "    </tr>\n",
       "    <tr>\n",
       "      <th>12</th>\n",
       "      <td>33.0</td>\n",
       "      <td>77.173045</td>\n",
       "    </tr>\n",
       "    <tr>\n",
       "      <th>13</th>\n",
       "      <td>0.0</td>\n",
       "      <td>79.920561</td>\n",
       "    </tr>\n",
       "    <tr>\n",
       "      <th>14</th>\n",
       "      <td>38.0</td>\n",
       "      <td>81.367045</td>\n",
       "    </tr>\n",
       "    <tr>\n",
       "      <th>15</th>\n",
       "      <td>6.0</td>\n",
       "      <td>76.828807</td>\n",
       "    </tr>\n",
       "    <tr>\n",
       "      <th>16</th>\n",
       "      <td>0.0</td>\n",
       "      <td>79.228817</td>\n",
       "    </tr>\n",
       "    <tr>\n",
       "      <th>17</th>\n",
       "      <td>61.0</td>\n",
       "      <td>97.965797</td>\n",
       "    </tr>\n",
       "    <tr>\n",
       "      <th>18</th>\n",
       "      <td>3.0</td>\n",
       "      <td>77.433341</td>\n",
       "    </tr>\n",
       "    <tr>\n",
       "      <th>19</th>\n",
       "      <td>110.0</td>\n",
       "      <td>92.050162</td>\n",
       "    </tr>\n",
       "    <tr>\n",
       "      <th>20</th>\n",
       "      <td>40.0</td>\n",
       "      <td>81.669980</td>\n",
       "    </tr>\n",
       "    <tr>\n",
       "      <th>21</th>\n",
       "      <td>582.0</td>\n",
       "      <td>94.277383</td>\n",
       "    </tr>\n",
       "    <tr>\n",
       "      <th>22</th>\n",
       "      <td>517.0</td>\n",
       "      <td>90.500570</td>\n",
       "    </tr>\n",
       "    <tr>\n",
       "      <th>23</th>\n",
       "      <td>47.0</td>\n",
       "      <td>88.045738</td>\n",
       "    </tr>\n",
       "    <tr>\n",
       "      <th>24</th>\n",
       "      <td>34.0</td>\n",
       "      <td>78.658157</td>\n",
       "    </tr>\n",
       "    <tr>\n",
       "      <th>25</th>\n",
       "      <td>2.0</td>\n",
       "      <td>77.120748</td>\n",
       "    </tr>\n",
       "    <tr>\n",
       "      <th>26</th>\n",
       "      <td>0.4</td>\n",
       "      <td>80.104937</td>\n",
       "    </tr>\n",
       "    <tr>\n",
       "      <th>27</th>\n",
       "      <td>0.5</td>\n",
       "      <td>77.137685</td>\n",
       "    </tr>\n",
       "    <tr>\n",
       "      <th>28</th>\n",
       "      <td>270.0</td>\n",
       "      <td>103.056717</td>\n",
       "    </tr>\n",
       "    <tr>\n",
       "      <th>29</th>\n",
       "      <td>102.0</td>\n",
       "      <td>221.385320</td>\n",
       "    </tr>\n",
       "  </tbody>\n",
       "</table>\n",
       "</div>"
      ],
      "text/plain": [
       "    Actual   Predicted\n",
       "0     88.0   92.321303\n",
       "1     13.0   77.844733\n",
       "2    115.0   80.686146\n",
       "3    391.0   78.045452\n",
       "4     26.0   80.334776\n",
       "5      4.0   81.373730\n",
       "6     49.0   93.280772\n",
       "7     30.0  106.387670\n",
       "8     11.0   77.556803\n",
       "9      0.1   77.564529\n",
       "10     5.0   77.049435\n",
       "11  1238.0  103.392784\n",
       "12    33.0   77.173045\n",
       "13     0.0   79.920561\n",
       "14    38.0   81.367045\n",
       "15     6.0   76.828807\n",
       "16     0.0   79.228817\n",
       "17    61.0   97.965797\n",
       "18     3.0   77.433341\n",
       "19   110.0   92.050162\n",
       "20    40.0   81.669980\n",
       "21   582.0   94.277383\n",
       "22   517.0   90.500570\n",
       "23    47.0   88.045738\n",
       "24    34.0   78.658157\n",
       "25     2.0   77.120748\n",
       "26     0.4   80.104937\n",
       "27     0.5   77.137685\n",
       "28   270.0  103.056717\n",
       "29   102.0  221.385320"
      ]
     },
     "execution_count": 72,
     "metadata": {},
     "output_type": "execute_result"
    }
   ],
   "source": [
    "# Question 12: Create a dataframe comparing the actual and predicted values of y.\n",
    "\n",
    "data = pd.DataFrame({'Actual': y_test.flatten(), 'Predicted': y_predicted.flatten()})\n",
    "data.head(30)"
   ]
  },
  {
   "cell_type": "markdown",
   "metadata": {},
   "source": [
    "Compare how the regression fits the training set"
   ]
  },
  {
   "cell_type": "code",
   "execution_count": 73,
   "metadata": {},
   "outputs": [],
   "source": [
    "# Predict.\n",
    "\n",
    "y_predicted_train = regression.predict(X_train) "
   ]
  },
  {
   "cell_type": "code",
   "execution_count": 74,
   "metadata": {},
   "outputs": [],
   "source": [
    "rmse = mean_squared_error(y_train, y_predicted_train)\n",
    "r2 = r2_score(y_train, y_predicted_train)"
   ]
  },
  {
   "cell_type": "code",
   "execution_count": 75,
   "metadata": {},
   "outputs": [
    {
     "name": "stdout",
     "output_type": "stream",
     "text": [
      "Slope: [[0.00014857]]\n",
      "Mean squared error:  24509.76684642086\n",
      "R2 score:  0.018416677413267135\n"
     ]
    }
   ],
   "source": [
    "print('Slope:' ,regression.coef_)\n",
    "print('Mean squared error: ', rmse)\n",
    "print('R2 score: ', r2)"
   ]
  },
  {
   "cell_type": "code",
   "execution_count": 76,
   "metadata": {},
   "outputs": [
    {
     "data": {
      "image/png": "[encoded data removed]",
      "text/plain": [
       "<Figure size 432x288 with 1 Axes>"
      ]
     },
     "metadata": {
      "needs_background": "light"
     },
     "output_type": "display_data"
    }
   ],
   "source": [
    "# Visualizing the training set results.\n",
    "\n",
    "plot_test = plt\n",
    "plot_test.scatter(X_train, y_train, color='green', s = 15)\n",
    "plot_test.plot(X_train, y_predicted_train, color='red', linewidth =3)\n",
    "plot_test.title('Tests/1M pop vs. Deaths/1M pop (Test set)')\n",
    "plot_test.xlabel('Tests/1M pop')\n",
    "plot_test.ylabel('Deaths/1M pop')\n",
    "plot_test.show()"
   ]
  },
  {
   "cell_type": "markdown",
   "metadata": {},
   "source": [
    "# Question 13: Thoughts... Looking at the regression chart, I can see that every value for Deaths/1M pop. over 300 per 1M has a test rate of below 30% (0.3).  However, the slope actually has a very slight positive relationship (meaning higher test rate actually leads to higher death rate).  The mean squared error shows that many of the plots are far from the regression line making it very hard to predict death rate based on test rate.  This is why the R2 score is so low (only 14.4%) making this model a bad fit.  There are many factors that may effect these numbers (amount of testing, mask mandates, shutdowns).  That is why the predicted figures are so different from the actual figures.  In terms of data bias, the reporting that each country has may not be universally accurate.  There have been many accusations that the figures are not being reported properly which can definitely alter the numbers."
   ]
  },
  {
   "cell_type": "code",
   "execution_count": null,
   "metadata": {},
   "outputs": [],
   "source": []
  }
 ],
 "metadata": {
  "kernelspec": {
   "display_name": "Python 3",
   "language": "python",
   "name": "python3"
  },
  "language_info": {
   "codemirror_mode": {
    "name": "ipython",
    "version": 3
   },
   "file_extension": ".py",
   "mimetype": "text/x-python",
   "name": "python",
   "nbconvert_exporter": "python",
   "pygments_lexer": "ipython3",
   "version": "3.8.3"
  }
 },
 "nbformat": 4,
 "nbformat_minor": 4
}
